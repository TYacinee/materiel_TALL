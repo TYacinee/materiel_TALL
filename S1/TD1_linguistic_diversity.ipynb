{
  "cells": [
    {
      "cell_type": "code",
      "execution_count": null,
      "metadata": {
        "id": "v7-lfiCXrdPx"
      },
      "outputs": [],
      "source": [
        "import pandas as pd # dataframe manipulation\n",
        "import numpy as np # numerical computation\n",
        "import matplotlib.pyplot as plt # plotting\n",
        "from mpl_toolkits.basemap import Basemap # map plotting"
      ]
    },
    {
      "cell_type": "markdown",
      "metadata": {
        "id": "xmu9MIfPrdPy"
      },
      "source": [
        "Below is the installation command that you should uncomment to install basemap in colab.  "
      ]
    },
    {
      "cell_type": "code",
      "execution_count": null,
      "metadata": {
        "id": "-cJ9g1NrrdPz"
      },
      "outputs": [],
      "source": [
        "### Google Colab installations ###\n",
        "# !pip install basemap"
      ]
    },
    {
      "cell_type": "markdown",
      "metadata": {
        "id": "p0SVc67TrdP0"
      },
      "source": [
        "## 1. Plotting linguistic diversity"
      ]
    },
    {
      "cell_type": "markdown",
      "metadata": {
        "id": "rz8N3KJFrdP0"
      },
      "source": [
        "### 1.1. Exploring the data"
      ]
    },
    {
      "cell_type": "markdown",
      "metadata": {
        "id": "z0xweSxxrdP0"
      },
      "source": [
        "In this part of the practical, we are going to plot the linguistic diversity of the world. We will use the data from [Glottolog](https://glottolog.org/), a database of the world's languages. If the link that we use to export the data doesn't work, copy it from [here](https://github.com/alexeykosh/intro-to-ling/blob/main/S1/glottolog.csv) by clicking on the `raw` button, and replace the link below."
      ]
    },
    {
      "cell_type": "code",
      "execution_count": null,
      "metadata": {
        "id": "padlskVirdP0"
      },
      "outputs": [],
      "source": [
        "df = pd.read_csv('https://raw.githubusercontent.com/alexeykosh/intro-to-ling/main/S1/glottolog.csv')"
      ]
    },
    {
      "cell_type": "markdown",
      "metadata": {
        "id": "Jxpcoj35rdP1"
      },
      "source": [
        "Let's look at the data first."
      ]
    },
    {
      "cell_type": "code",
      "execution_count": null,
      "metadata": {
        "id": "lVPzCy4frdP1"
      },
      "outputs": [],
      "source": [
        "df.head(10)"
      ]
    },
    {
      "cell_type": "markdown",
      "metadata": {
        "id": "YVHFclKxrdP2"
      },
      "source": [
        "Let's count the unique number of ISO-639-3 codes in the data. ISO-639-3 codes are unique identifiers for languages consisting of three letters."
      ]
    },
    {
      "cell_type": "code",
      "execution_count": null,
      "metadata": {
        "id": "O2ztCUYgrdP2"
      },
      "outputs": [],
      "source": [
        "df['isocodes'].nunique()"
      ]
    },
    {
      "cell_type": "markdown",
      "source": [
        "Count the number of unique ISO-codes for entries that are labeled as language and not as dialect (see the column `level`):"
      ],
      "metadata": {
        "id": "rI2p6XSVKHm_"
      }
    },
    {
      "cell_type": "code",
      "source": [
        "## YOUR CODE HERE ##"
      ],
      "metadata": {
        "id": "_piDMc6PIskW"
      },
      "execution_count": null,
      "outputs": []
    },
    {
      "cell_type": "markdown",
      "metadata": {
        "id": "rP_BP6ovrdP3"
      },
      "source": [
        "Let's first make a subset of the data where we only keep the entries that have both longitude and latitude information, as well as those that are labelled as *language*.\n",
        "\n",
        "<!-- insert image below -->\n",
        "\n",
        "<img src=\"https://bam.files.bbci.co.uk/bam/live/content/z74msbk/large\" alt=\"drawing\" width=\"500\"/>\n"
      ]
    },
    {
      "cell_type": "code",
      "execution_count": null,
      "metadata": {
        "id": "_2Mpc7lLrdP3"
      },
      "outputs": [],
      "source": [
        "df_coord = df.dropna(subset=['latitude', 'longitude']) # drop rows with missing values\n",
        "df_coord = df_coord[df_coord['level'] == 'language'] # only keep languages\n",
        "df_coord = df_coord[df_coord['isocodes'].notna()] # remove NA isocodes\n",
        "df_coord.head(10) # show the first 10 rows"
      ]
    },
    {
      "cell_type": "markdown",
      "source": [
        "Let's check that the"
      ],
      "metadata": {
        "id": "J6TZxsIrYZ2r"
      }
    },
    {
      "cell_type": "code",
      "source": [
        "df_coord.shape"
      ],
      "metadata": {
        "id": "rolVqsjVKjCv"
      },
      "execution_count": null,
      "outputs": []
    },
    {
      "cell_type": "markdown",
      "metadata": {
        "id": "egB4yZxbrdP3"
      },
      "source": [
        "Great, now we can plot these points to see whether the locations make sense."
      ]
    },
    {
      "cell_type": "code",
      "execution_count": null,
      "metadata": {
        "id": "waKF4Nl7rdP3"
      },
      "outputs": [],
      "source": [
        "plt.figure(figsize=(12, 6)) # set the size of the plot (in inches)\n",
        "plt.axhline(0, color='black', lw=0.5) # add the equator\n",
        "plt.scatter(df_coord['longitude'], df_coord['latitude'], s=1) # plot the data (size of the points = 1)\n",
        "plt.xlabel('Longitude') # set the label of the x-axis\n",
        "plt.ylabel('Latitude') # set the label of the y-axis\n",
        "plt.show() # show the plot"
      ]
    },
    {
      "cell_type": "markdown",
      "metadata": {
        "id": "QBQYozu8rdP3"
      },
      "source": [
        "What can you tell from this plot already? Do you notice that some of the regions of the world are more densely populated with languages than others? We can also visualize this by plotting a density plot of the locations of the languages.\n",
        "\n",
        "For this, we will be using the hexbin plot. The hexbin plot is created by dividing the space into hexagons and counting the number of points in each hexagon. This is a great way to visualize the density of points in a scatter plot.\n",
        "\n",
        "Try to create by reading the documentation for the hexbin plot [here](https://matplotlib.org/stable/api/_as_gen/matplotlib.pyplot.hexbin.html)"
      ]
    },
    {
      "cell_type": "code",
      "execution_count": null,
      "metadata": {
        "id": "pe65w4z7rdP4"
      },
      "outputs": [],
      "source": [
        "## YOUR CODE HERE ##"
      ]
    },
    {
      "cell_type": "markdown",
      "metadata": {
        "id": "iJaR3q9DrdP4"
      },
      "source": [
        "### 1.2. Map basics"
      ]
    },
    {
      "cell_type": "markdown",
      "metadata": {
        "id": "yHHdZv5YrdP4"
      },
      "source": [
        "Great, however, we are still missing a map of the world. Let's add a map of the world to our plot. We can use the `basemap` library to do this. This library allows us to have great basemaps for our plots, and is compatible with `matplotlib`."
      ]
    },
    {
      "cell_type": "code",
      "execution_count": null,
      "metadata": {
        "id": "qQEJ__SKrdP4"
      },
      "outputs": [],
      "source": [
        "plt.figure(figsize=(12, 6)) # set the size of the plot (in inches)\n",
        "m = Basemap(projection='cyl', # set the projection (we are using a cylindrical projection)\n",
        "            lon_0=0, # set the center of the map\n",
        "            resolution='c') # set the resolution (we are using 'crude', as we don't need a high resolution)\n",
        "m.drawcoastlines(color='black') # draw the coastlines\n",
        "plt.show() # show the plot"
      ]
    },
    {
      "cell_type": "markdown",
      "metadata": {
        "id": "FEb31yjfrdP4"
      },
      "source": [
        "It would be nice to color the continents, let's update the plot to color the continents."
      ]
    },
    {
      "cell_type": "code",
      "execution_count": null,
      "metadata": {
        "id": "bW_4osEfrdP4"
      },
      "outputs": [],
      "source": [
        "plt.figure(figsize=(12, 6)) # set the size of the plot (in inches)\n",
        "m = Basemap(projection='cyl', # set the projection (we are using a cylindrical projection)\n",
        "            lon_0=0, # set the center of the map\n",
        "            resolution='c') # set the resolution (we are using 'crude', as we don't need a high resolution)\n",
        "m.drawcoastlines(color='black') # draw the coastlines\n",
        "m.fillcontinents(color='gray', # set the color of the continents\n",
        "                 lake_color='white') # set the color of the water\n",
        "plt.show()"
      ]
    },
    {
      "cell_type": "markdown",
      "metadata": {
        "id": "PnMvxZs2rdP4"
      },
      "source": [
        "Maps could have many different projections, such as the Mercator projection, the Robinson projection, or the Mollweide projection. You can see some examples of these projections below:\n",
        "\n",
        "<img src='https://blogger.googleusercontent.com/img/b/R29vZ2xl/AVvXsEikV_a3eFRALOvMNsGkE5gcHgSdw91pZDdPu8EkR-sJP9NYzR6lcbv-RrH67xEwosiWruacYndDnnR6yRExckZaj9oo1yI-_pBD_Wekhigzw_2yoGGUTdYMUaR9srvyuoEAGgRkiUDlyQxqxtBJBs5TfnHtMBSILE4P3Y5XS14bsjO6uIr16dmVZxmw5D85/s1920/InShot_20240506_185350804.jpg' alt=\"drawing\" width=\"500\" >"
      ]
    },
    {
      "cell_type": "markdown",
      "metadata": {
        "id": "OeK5OfBkrdP5"
      },
      "source": [
        "We can also change the projection by using the `projection` parameter in the `Basemap` function. Let's change the projection to `robin` (Robinson) and see how the plot changes."
      ]
    },
    {
      "cell_type": "code",
      "execution_count": null,
      "metadata": {
        "id": "d8kAF3VUrdP5"
      },
      "outputs": [],
      "source": [
        "plt.figure(figsize=(12, 6))\n",
        "m = Basemap(projection='robin', # you can change the projection here\n",
        "            lat_0=0, lon_0=0,\n",
        "            resolution='c')\n",
        "m.drawcoastlines(color='black')\n",
        "m.fillcontinents(color='gray',\n",
        "                 lake_color='white')\n",
        "plt.show()"
      ]
    },
    {
      "cell_type": "markdown",
      "metadata": {
        "id": "xQXcfWtnrdP5"
      },
      "source": [
        "Let's try another projection, the Mollweide projection. Let's change the projection to `moll` and see how the plot changes. You can also find the full list of projections in the [documentation](https://matplotlib.org/basemap/stable/users/mapsetup.html) and experiment with them below."
      ]
    },
    {
      "cell_type": "code",
      "execution_count": null,
      "metadata": {
        "id": "Icbc5xJhrdP5"
      },
      "outputs": [],
      "source": [
        "## YOUR CODE HERE ##"
      ]
    },
    {
      "cell_type": "markdown",
      "metadata": {
        "id": "9U-9rBAmrdP5"
      },
      "source": [
        "### 1.3. Putting it all together."
      ]
    },
    {
      "cell_type": "markdown",
      "metadata": {
        "id": "nqs0dpvUrdP5"
      },
      "source": [
        "Now that we have a map of the world, let's add the scatter plot of the languages on top of it. We can do this by either using `matplotlib` or `basemap` directly. Let's use `basemap` directly to plot the languages on top of the map.\n",
        "\n",
        "First, let's define x and y coordinates of our languages:"
      ]
    },
    {
      "cell_type": "code",
      "execution_count": null,
      "metadata": {
        "id": "2dVPrkFXrdP5"
      },
      "outputs": [],
      "source": [
        "x_all = df_coord['longitude'].values\n",
        "y_all = df_coord['latitude'].values"
      ]
    },
    {
      "cell_type": "markdown",
      "metadata": {
        "id": "k4q88NpHrdP6"
      },
      "source": [
        "Then we can plot them on top of the map. Let's also make the map more transparent by adjusting the `alpha` parameter of the `fillcontinents` method:"
      ]
    },
    {
      "cell_type": "code",
      "execution_count": null,
      "metadata": {
        "id": "tLWWhDUTrdP6"
      },
      "outputs": [],
      "source": [
        "plt.figure(figsize=(12, 6))\n",
        "m = Basemap(projection='cyl',\n",
        "            lat_0=0,\n",
        "            lon_0=0,\n",
        "            resolution='c')\n",
        "m.drawcoastlines(color='black')\n",
        "m.fillcontinents(color='gray',\n",
        "                 lake_color='white',\n",
        "                 alpha=0.5) # set the transparency of the continents to make the points more visible\n",
        "# Plotting the languages\n",
        "m.plot(x_all, y_all, 'ro', markersize=1)\n",
        "plt.show()"
      ]
    },
    {
      "cell_type": "markdown",
      "metadata": {
        "id": "hjGAm6turdP6"
      },
      "source": [
        "Let's try another projection:"
      ]
    },
    {
      "cell_type": "code",
      "execution_count": null,
      "metadata": {
        "id": "VIl_9JKdrdP6"
      },
      "outputs": [],
      "source": [
        "plt.figure(figsize=(12, 6))\n",
        "m = Basemap(projection='moll', # you can change the projection here\n",
        "            lat_0=0,\n",
        "            lon_0=0,\n",
        "            resolution='c')\n",
        "m.drawcoastlines(color='black')\n",
        "m.fillcontinents(color='gray',\n",
        "                 lake_color='white',\n",
        "                 alpha=0.5) # set the transparency of the continents to make the points more visible\n",
        "m.plot(x_all, y_all, 'ro', markersize=1) # Plotting the languages\n",
        "plt.show()"
      ]
    },
    {
      "cell_type": "markdown",
      "metadata": {
        "id": "FSUied-QrdP6"
      },
      "source": [
        "Ooops, something seems wrong here! We cannot see the points, because we need to adapt the longitude and latitude values to the projection. Let's do this by using the `Basemap` object."
      ]
    },
    {
      "cell_type": "code",
      "execution_count": null,
      "metadata": {
        "id": "8rZrRrXmrdP6"
      },
      "outputs": [],
      "source": [
        "plt.figure(figsize=(12, 6))\n",
        "m = Basemap(projection='moll',\n",
        "            lat_0=0,\n",
        "            lon_0=0,\n",
        "            resolution='c')\n",
        "m.drawcoastlines(color='black')\n",
        "m.fillcontinents(color='gray',\n",
        "                 lake_color='white',\n",
        "                 alpha=0.5) # set the transparency of the continents to make the points more visible\n",
        "new_x, new_y = m(x_all, y_all) # convert the coordinates to the map coordinates\n",
        "# Plotting the languages\n",
        "m.plot(new_x, new_y, 'ro', markersize=1)\n",
        "plt.show()"
      ]
    },
    {
      "cell_type": "markdown",
      "metadata": {
        "id": "D_vUuMlnrdP6"
      },
      "source": [
        "We can also add the hexbin plot on top of the map. Let's do this by using the `hexbin` method of the `Basemap` object."
      ]
    },
    {
      "cell_type": "code",
      "execution_count": null,
      "metadata": {
        "id": "nQohYC18rdP7"
      },
      "outputs": [],
      "source": [
        "plt.figure(figsize=(12, 6))\n",
        "m = Basemap(projection='robin',\n",
        "            lat_0=0,\n",
        "            lon_0=0,\n",
        "            resolution='c')\n",
        "m.drawcoastlines(color='black')\n",
        "m.fillcontinents(color='gray',\n",
        "                 lake_color='white',\n",
        "                 alpha=0.5) # set the transparency of the continents to make the points more visible\n",
        "new_x, new_y = m(x_all, y_all) # convert the coordinates to the map coordinates\n",
        "# Plotting the languages as a hexbin plot\n",
        "m.hexbin(x=new_x,\n",
        "         y=new_y,\n",
        "         gridsize=100, # set the number of bins\n",
        "         bins='log', # log scale for the number of languages\n",
        "         cmap='hot') # set the color map\n",
        "m.colorbar(label='Number of languages', # set the label of the colorbar\n",
        "           location='bottom') # set the location of the colorbar\n",
        "# Plot parallels and meridians\n",
        "m.drawparallels(np.arange(-90., 120., 30.), labels=[1, 0, 0, 0]) # the list in the labels parameter sets the visibility of the labels (left, right, top, bottom)\n",
        "m.drawmeridians(np.arange(0., 420., 60.), labels=[0, 0, 1, 0])\n",
        "plt.show()"
      ]
    },
    {
      "cell_type": "markdown",
      "metadata": {
        "id": "Mcr9Xq18rdP7"
      },
      "source": [
        "### 1.4. Exploring the linguistic diversity relative to the equator"
      ]
    },
    {
      "cell_type": "markdown",
      "metadata": {
        "id": "Cpacgka2rdP7"
      },
      "source": [
        "We have plotted the linguistic diversity on a map. If you look at the map, you can see that the linguistic diversity is not evenly distributed across the world. Some regions have more languages than others, like the Sub-Saharan Africa region, or the South-East Asia region. While other regions have fewer languages, like the Arctic region or the Sahara desert.\n",
        "\n",
        "One thing that we can look at, is the density of languages relative to the equator. We can do this by plotting the latitude of the languages against the number of languages at that latitude. First, we need to group the languages by latitude and count the number of languages at each latitude. Then we can plot the number of languages at each latitude.\n",
        "\n",
        "**Before we start doing this, do you have any hypotheses about the distribution of languages relative to the equator? Will there be more languages above or below the equator? Why?**"
      ]
    },
    {
      "cell_type": "code",
      "execution_count": null,
      "metadata": {
        "id": "Nq3p7xGwrdP7"
      },
      "outputs": [],
      "source": [
        "plt.figure(figsize=(8, 4))\n",
        "plt.hist(df_coord['latitude'], # latitude values\n",
        "         )\n",
        "plt.xlabel('Latitude') # set the label of the x-axis\n",
        "plt.ylabel('Number of languages')\n",
        "plt.show()"
      ]
    },
    {
      "cell_type": "markdown",
      "metadata": {
        "id": "nwgTiOgSrdP7"
      },
      "source": [
        "Nice, but it's not very pretty, and also not very informative. Let's make a better plot by adjusting the number of bins and the color of the plot."
      ]
    },
    {
      "cell_type": "code",
      "execution_count": null,
      "metadata": {
        "id": "yTaZO29-rdP7"
      },
      "outputs": [],
      "source": [
        "plt.figure(figsize=(8, 4))\n",
        "plt.hist(df_coord['latitude'], # latitude values\n",
        "         bins=100,\n",
        "         color='grey')\n",
        "plt.xlabel('Latitude') # set the label of the x-axis\n",
        "plt.show()"
      ]
    },
    {
      "cell_type": "markdown",
      "metadata": {
        "id": "HtkGSD_LrdP7"
      },
      "source": [
        "Let's also add a line to the equator, and center the x-axis at the equator."
      ]
    },
    {
      "cell_type": "code",
      "execution_count": null,
      "metadata": {
        "id": "d7POETJzrdP7"
      },
      "outputs": [],
      "source": [
        "plt.figure(figsize=(8, 4))\n",
        "plt.hist(df_coord['latitude'], # latitude values\n",
        "         bins=100,\n",
        "         color='grey')\n",
        "plt.xlabel('Latitude') # set the label of the x-axis\n",
        "plt.axvline(x=0, color='red', lw=2) # add the equator\n",
        "plt.xlim(-80, 80)\n",
        "plt.show()"
      ]
    },
    {
      "cell_type": "markdown",
      "metadata": {
        "id": "TkUb7Np7rdP7"
      },
      "source": [
        "Let's also label the left side as below the equator and the right side as above the equator."
      ]
    },
    {
      "cell_type": "code",
      "execution_count": null,
      "metadata": {
        "id": "DLi-4Hc9rdP8"
      },
      "outputs": [],
      "source": [
        "plt.figure(figsize=(8, 4))\n",
        "plt.hist(df_coord['latitude'], # latitude values\n",
        "         bins=100,\n",
        "         color='grey')\n",
        "plt.xlabel('Latitude') # set the label of the x-axis\n",
        "plt.axvline(x=0, color='red', lw=2) # add the equator\n",
        "plt.xlim(-80, 80)\n",
        "plt.text(-70, 350, 'Below the equator', fontsize=12, color='red') # add a text\n",
        "plt.text(35, 350, 'Above the equator', fontsize=12, color='red') # add a text\n",
        "plt.show()"
      ]
    },
    {
      "cell_type": "markdown",
      "metadata": {
        "id": "JOc0c1prrdP8"
      },
      "source": [
        "It seems that there are indeed more languages above the equator than below, let's now try to count below and above the equator. Note that the latitude above the equator is positive, and below the equator is negative. You would need to use the pandas [query](https://pandas.pydata.org/docs/reference/api/pandas.DataFrame.query.htm) method."
      ]
    },
    {
      "cell_type": "code",
      "execution_count": null,
      "metadata": {
        "id": "8QsFWDXSrdP8"
      },
      "outputs": [],
      "source": [
        "## YOUR CODE HERE ###"
      ]
    },
    {
      "cell_type": "markdown",
      "metadata": {
        "id": "WneM3mc0rdP8"
      },
      "source": [
        "There is indeed more languages above the equator than below. This is interesting, as it shows that the linguistic diversity is not evenly distributed across the world. However, it might be due to the Earth having more landmass above the equator than below. We can also show it using a bar plot.\n",
        "\n",
        "To do this, you would first need to add a new column `equator_relative` with values `Above` and `Below` using [np.where](https://numpy.org/doc/stable/reference/generated/numpy.where.html)."
      ]
    },
    {
      "cell_type": "code",
      "execution_count": null,
      "metadata": {
        "id": "3yO6I965rdP8"
      },
      "outputs": [],
      "source": [
        "## YOUR CODE HERE ##"
      ]
    },
    {
      "cell_type": "markdown",
      "source": [
        "If you did it right, you would be able to plot the bar plot below:"
      ],
      "metadata": {
        "id": "utw7enUAuQnI"
      }
    },
    {
      "cell_type": "code",
      "execution_count": null,
      "metadata": {
        "id": "KCAWBCamrdP8"
      },
      "outputs": [],
      "source": [
        "plt.figure(figsize=(8, 4))\n",
        "df_coord['equator_relative'].value_counts().plot(kind='bar', color='grey') # plot the counts of the values\n",
        "plt.ylabel('Number of languages') # set the label of the y-axis\n",
        "plt.xlabel('Position relative to the equator') # set the label of the x-axis\n",
        "plt.show()"
      ]
    },
    {
      "cell_type": "markdown",
      "metadata": {
        "id": "i5DuUYnSrdP9"
      },
      "source": [
        "### 1.5. Plotting a specific region"
      ]
    },
    {
      "cell_type": "markdown",
      "metadata": {
        "id": "BEa_HGTrrdP9"
      },
      "source": [
        "Let's now focus on one specific region, and look at France, for example. We can do this by setting the limits of the map to the region we are interested in."
      ]
    },
    {
      "cell_type": "code",
      "execution_count": null,
      "metadata": {
        "id": "F1HUBXv5rdP9"
      },
      "outputs": [],
      "source": [
        "# the window is [41, 51, -5, 10], only choosing the languages in this window\n",
        "df_window = df_coord[(df_coord['latitude'] >= 41) & (df_coord['latitude'] <= 51) \\\n",
        "                     & (df_coord['longitude'] >= -5) & (df_coord['longitude'] <= 10)]"
      ]
    },
    {
      "cell_type": "code",
      "execution_count": null,
      "metadata": {
        "id": "RQh8_KTyrdP9"
      },
      "outputs": [],
      "source": [
        "# remove names where there are numbers or the word \"sign\"\n",
        "df_window = df_window[~df_window['name'].str.contains(r'\\d|sign', case=False)]"
      ]
    },
    {
      "cell_type": "code",
      "execution_count": null,
      "metadata": {
        "id": "Z2Dq6BsUrdP9"
      },
      "outputs": [],
      "source": [
        "names = df_window['name'].values.tolist()\n",
        "x_w = df_window['longitude'].values\n",
        "y_w = df_window['latitude'].values"
      ]
    },
    {
      "cell_type": "code",
      "execution_count": null,
      "metadata": {
        "id": "tW1tzPI_rdP9"
      },
      "outputs": [],
      "source": [
        "plt.figure(figsize=(7, 7))\n",
        "# plot the map of France\n",
        "m = Basemap(projection='merc',\n",
        "            llcrnrlat=41,\n",
        "            urcrnrlat=51,\n",
        "            llcrnrlon=-5,\n",
        "            urcrnrlon=10,\n",
        "            lat_ts=20,\n",
        "            resolution='i')\n",
        "m.drawcoastlines()\n",
        "m.drawcountries()\n",
        "m.drawmapboundary()\n",
        "m.fillcontinents(color='grey',\n",
        "                 lake_color='white',\n",
        "                 alpha=0.5)\n",
        "x_new, y_new = m(x_w, y_w)\n",
        "# m.plot(x_new, y_new, 'ro', markersize=5)\n",
        "plt.scatter(x_new, y_new, s=20, c='red', alpha=1)\n",
        "for i, name in enumerate(names):\n",
        "    plt.text(x_new[i], y_new[i], name, fontsize=8, ha='left')\n",
        "plt.show()"
      ]
    },
    {
      "cell_type": "markdown",
      "metadata": {
        "id": "jWzoS1ikrdP-"
      },
      "source": [
        "Now it's your turn. Choose one language on the map, and explore it's glottolog page. What can you learn from it?"
      ]
    },
    {
      "cell_type": "markdown",
      "metadata": {
        "id": "rgu9GW3UrdP-"
      },
      "source": [
        "## 2. Predicting linguistic diversity"
      ]
    },
    {
      "cell_type": "markdown",
      "metadata": {
        "id": "zsDYqQ91rdP-"
      },
      "source": [
        "In his book Linguistic Diversity (1999), Daniel Nettle hypothesizes that linguistic diversity is predicted by the fertility of the land. To test this hypothesis, he collected data from 74 countries, and measured the linguistic diversity of each country by counting the number of languages spoken in each country. He also measured the fertility of the land by counting the number of months in which crops can be grown in each country (MGS, mean growing season), and included data on population.\n",
        "\n",
        "Let's take a look at the data first."
      ]
    },
    {
      "cell_type": "code",
      "execution_count": null,
      "metadata": {
        "id": "q8CYQRaVrdP-"
      },
      "outputs": [],
      "source": [
        "data_nettle = pd.read_csv('https://raw.githubusercontent.com/'\\\n",
        "                          'bodowinter/applied_statistics_book_data/'\\\n",
        "                          'master/nettle_1999_climate.csv')\n",
        "data_nettle.head(10)"
      ]
    },
    {
      "cell_type": "markdown",
      "metadata": {
        "id": "zNQwdwCwrdP-"
      },
      "source": [
        "Let's count the number of countries in the data."
      ]
    },
    {
      "cell_type": "code",
      "execution_count": null,
      "metadata": {
        "id": "HLbj-v-XrdP-"
      },
      "outputs": [],
      "source": [
        "data_nettle.Country.unique().shape"
      ]
    },
    {
      "cell_type": "markdown",
      "metadata": {
        "id": "tYVVFJR1rdP-"
      },
      "source": [
        "Min, max and median values of the mean growing season:"
      ]
    },
    {
      "cell_type": "code",
      "execution_count": null,
      "metadata": {
        "id": "WZNHrvwcrdP_"
      },
      "outputs": [],
      "source": [
        "print(f'Minimum MGS: {data_nettle.MGS.min()}')\n",
        "print(f'Maximum MGS: {data_nettle.MGS.max()}')\n",
        "print(f'Median MGS: {data_nettle.MGS.median()}')"
      ]
    },
    {
      "cell_type": "markdown",
      "metadata": {
        "id": "kn7P3vXIrdP_"
      },
      "source": [
        "Same for population size:"
      ]
    },
    {
      "cell_type": "code",
      "execution_count": null,
      "metadata": {
        "id": "JEx34U9lrdP_"
      },
      "outputs": [],
      "source": [
        "### YOUR CODE HERE ###"
      ]
    },
    {
      "cell_type": "markdown",
      "metadata": {
        "id": "bxEexuE2rdP_"
      },
      "source": [
        "Why do these values seem a bit off? Because the raw population size (in number of people) was transformed into a $log_{10}$ scale. Let's transform it back to the original scale by taking the exponent of the values."
      ]
    },
    {
      "cell_type": "code",
      "execution_count": null,
      "metadata": {
        "id": "ZbFbjg_jrdP_"
      },
      "outputs": [],
      "source": [
        "data_nettle['Population_exp'] = 10**data_nettle['Population']"
      ]
    },
    {
      "cell_type": "markdown",
      "metadata": {
        "id": "j0O__1YwrdP_"
      },
      "source": [
        "Australia's population in the 1999s was arund 17 million people. So as you can see, the population size was initially recorder in 1000ths of people."
      ]
    },
    {
      "cell_type": "code",
      "execution_count": null,
      "metadata": {
        "id": "j_eV4SkcrdP_"
      },
      "outputs": [],
      "source": [
        "data_nettle[data_nettle.Country == 'Australia']"
      ]
    },
    {
      "cell_type": "markdown",
      "metadata": {
        "id": "iM15U8MsrdP_"
      },
      "source": [
        "Let's recompute mean, min and max using the exponentiated values multiplied by 1000:"
      ]
    },
    {
      "cell_type": "code",
      "execution_count": null,
      "metadata": {
        "id": "xtlxD37vrdQA"
      },
      "outputs": [],
      "source": [
        "print(f\"Min population: {(data_nettle.Population_exp.min() * 1000).round(0)}\")\n",
        "print(f\"Max population: {(data_nettle.Population_exp.max() * 1000).round(0)}\")\n",
        "print(f\"Median population: {(data_nettle.Population_exp.median() * 1000).round(0)}\")"
      ]
    },
    {
      "cell_type": "markdown",
      "metadata": {
        "id": "p-1tdWbGrdQA"
      },
      "source": [
        "Ok, let's now thing scientifically. We have three variables -- what is the possilbe relations betweem population size, mean growing seazon and the number of languages?\n",
        "\n",
        "One possible scenario is that the population size is influenced by the Mean Growing Seazon, as people might tent to migrate to more prosperous regions. Only then multiple languages might appear due to preferential conditions of the environment.\n",
        "\n",
        "Let's draw a graph showing this hypothesis that we outlined:"
      ]
    },
    {
      "cell_type": "code",
      "execution_count": null,
      "metadata": {
        "id": "XrDRJ74_rdQA"
      },
      "outputs": [],
      "source": [
        "# NB: we will ignore networkx for now as we will work on it at the TD3\n",
        "\n",
        "import networkx as nx\n",
        "\n",
        "graph = nx.DiGraph()\n",
        "graph.add_edges_from([(\"MGS\", \"population size\"), (\"population size\", \"number of \\n languages\")])\n",
        "\n",
        "nx.draw_networkx(graph,\n",
        "                 arrows=True,\n",
        "                 node_size=2000,\n",
        "                 node_color='white')\n",
        "plt.gca().axison = False\n",
        "plt.show()"
      ]
    },
    {
      "cell_type": "markdown",
      "metadata": {
        "id": "yAmbPeKBrdQA"
      },
      "source": [
        "Let's plot the mean growing season (stored in the column `MGS`) against the log-transformed population size (stored in the column `Population`). What are your predictions? Do you think there is a correlation between the population size and the number of languages?"
      ]
    },
    {
      "cell_type": "code",
      "execution_count": null,
      "metadata": {
        "id": "7eHG2vRCrdQA"
      },
      "outputs": [],
      "source": [
        "plt.figure(figsize=(8, 4))\n",
        "plt.scatter(data_nettle['MGS'], data_nettle['Population'], s=10)\n",
        "plt.ylabel('Population (log scale)')\n",
        "plt.xlabel('Mean Growing Season')\n",
        "plt.show()"
      ]
    },
    {
      "cell_type": "code",
      "execution_count": null,
      "metadata": {
        "id": "_Yx5NxIxrdQA"
      },
      "outputs": [],
      "source": [
        "np.corrcoef(data_nettle['Population'], data_nettle['MGS'])[0, 1]"
      ]
    },
    {
      "cell_type": "markdown",
      "source": [
        "What can you tell from this?"
      ],
      "metadata": {
        "id": "MIXMTg7DwIGL"
      }
    },
    {
      "cell_type": "markdown",
      "metadata": {
        "id": "Hz3VctzCrdQA"
      },
      "source": [
        "Now let's do the same for population and the number of languages:"
      ]
    },
    {
      "cell_type": "code",
      "execution_count": null,
      "metadata": {
        "id": "kceNgUd1rdQB"
      },
      "outputs": [],
      "source": [
        "### YOUR CODE HERE ###"
      ]
    },
    {
      "cell_type": "markdown",
      "metadata": {
        "id": "FSYvUoXwrdQB"
      },
      "source": [
        "Finally, we will look at MGS and number of languages:"
      ]
    },
    {
      "cell_type": "code",
      "source": [
        "### YOUR CODE HERE ###"
      ],
      "metadata": {
        "id": "cy_3VOoIwQNG"
      },
      "execution_count": null,
      "outputs": []
    }
  ],
  "metadata": {
    "kernelspec": {
      "display_name": "Python 3",
      "language": "python",
      "name": "python3"
    },
    "language_info": {
      "codemirror_mode": {
        "name": "ipython",
        "version": 3
      },
      "file_extension": ".py",
      "mimetype": "text/x-python",
      "name": "python",
      "nbconvert_exporter": "python",
      "pygments_lexer": "ipython3",
      "version": "3.12.4"
    },
    "colab": {
      "provenance": []
    }
  },
  "nbformat": 4,
  "nbformat_minor": 0
}