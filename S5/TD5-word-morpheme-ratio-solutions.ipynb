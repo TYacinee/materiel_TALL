{
 "cells": [
  {
   "cell_type": "code",
   "execution_count": 1,
   "metadata": {},
   "outputs": [
    {
     "name": "stderr",
     "output_type": "stream",
     "text": [
      "/Users/alexeykoshevoy/.pyenv/versions/3.12.4/envs/cpes_3.12/lib/python3.12/site-packages/tqdm/auto.py:21: TqdmWarning: IProgress not found. Please update jupyter and ipywidgets. See https://ipywidgets.readthedocs.io/en/stable/user_install.html\n",
      "  from .autonotebook import tqdm as notebook_tqdm\n"
     ]
    }
   ],
   "source": [
    "import xml.etree.ElementTree as ET # for parsing XML\n",
    "import random # random sampling\n",
    "import matplotlib.pyplot as plt # plotting\n",
    "from tqdm.auto import tqdm # progress bar\n",
    "import seaborn as sns # plotting\n",
    "import spacy # NLP\n",
    "\n",
    "sns.set(context='paper', style='ticks', font_scale=1) # set the plot style"
   ]
  },
  {
   "cell_type": "markdown",
   "metadata": {},
   "source": [
    "Function to extact bibles from the [Bible corpus](https://github.com/christos-c/bible-corpus):"
   ]
  },
  {
   "cell_type": "code",
   "execution_count": 2,
   "metadata": {},
   "outputs": [],
   "source": [
    "def get_bible(lang):\n",
    "    '''\n",
    "    Takes the language of the Bible as input and writes the text of the Bible to a text file.\n",
    "    '''\n",
    "    root = ET.fromstring(open(f'bible-corpus-v.1.13.1/bibles/{lang}.xml').read())\n",
    "    with open(f'{lang}.txt', 'w', encoding='utf-8') as out:\n",
    "        for n in root.iter('seg'):\n",
    "            out.write(n.text.strip() + '\\n')\n",
    "\n",
    "\n",
    "# get_bible('English')\n",
    "# get_bible('Russian')\n",
    "# get_bible('German')\n",
    "# get_bible('French')"
   ]
  },
  {
   "cell_type": "markdown",
   "metadata": {},
   "source": [
    "Installing the necessary models for spacy (uncomment to install):"
   ]
  },
  {
   "cell_type": "code",
   "execution_count": 3,
   "metadata": {},
   "outputs": [],
   "source": [
    "# !python -m spacy download ru_core_news_sm\n",
    "# !python -m spacy download en_core_web_sm\n",
    "# !python -m spacy download de_core_news_sm\n",
    "# !python -m spacy download fr_core_news_sm"
   ]
  },
  {
   "cell_type": "markdown",
   "metadata": {},
   "source": [
    "## 1. Introduction to spacy\n",
    "\n",
    "[Spacy](https://spacy.io/) is a Python library for Natural Language Processing (NLP) that is designed to be fast and easy to use. It is a powerful, production-ready library that can be used for a wide range of NLP tasks, such as named entity recognition, part-of-speech tagging, and dependency parsing. We will be using spacy mainly to perform **morphological analysis** on the text data. In several languages. \n",
    "\n",
    "You start by initiating your model for a specific language. In this case, we will be using the French model, that we installed previosly:"
   ]
  },
  {
   "cell_type": "code",
   "execution_count": 4,
   "metadata": {},
   "outputs": [],
   "source": [
    "nlp_fr = spacy.load(\"fr_core_news_sm\")"
   ]
  },
  {
   "cell_type": "markdown",
   "metadata": {},
   "source": [
    "Let's start by analyzing a simple sentence in French:"
   ]
  },
  {
   "cell_type": "code",
   "execution_count": 5,
   "metadata": {},
   "outputs": [
    {
     "name": "stdout",
     "output_type": "stream",
     "text": [
      "Word-form: J', Lemma: je, POS: PRON\n",
      "Word-form: ai, Lemma: avoir, POS: AUX\n",
      "Word-form: achete, Lemma: achete, POS: VERB\n",
      "Word-form: trois, Lemma: trois, POS: NUM\n",
      "Word-form: chats, Lemma: chat, POS: NOUN\n",
      "Word-form: ., Lemma: ., POS: PUNCT\n"
     ]
    }
   ],
   "source": [
    "for t in nlp_fr(\"J'ai achete trois chats.\"):\n",
    "    print(f'Word-form: {t.text}, Lemma: {t.lemma_}, POS: {t.pos_}')"
   ]
  },
  {
   "cell_type": "markdown",
   "metadata": {},
   "source": [
    "You can see that the spacy package can lemmatize the words, and also provide the part of speech of each word. However, we would like to get the morphological analysis of the words in the sentence as well. Let's do that:"
   ]
  },
  {
   "cell_type": "code",
   "execution_count": 6,
   "metadata": {},
   "outputs": [
    {
     "name": "stdout",
     "output_type": "stream",
     "text": [
      "Word-form: J', Lemma: je, Morph: Number=Sing|Person=1\n",
      "Word-form: ai, Lemma: avoir, Morph: Mood=Ind|Number=Sing|Person=1|Tense=Pres|VerbForm=Fin\n",
      "Word-form: achete, Lemma: achete, Morph: Mood=Ind|Person=3|VerbForm=Fin\n",
      "Word-form: trois, Lemma: trois, Morph: NumType=Card\n",
      "Word-form: chats, Lemma: chat, Morph: Gender=Masc|Number=Plur\n",
      "Word-form: ., Lemma: ., Morph: \n"
     ]
    }
   ],
   "source": [
    "for t in nlp_fr(\"J'ai achete trois chats.\"):\n",
    "    print(f'Word-form: {t.text}, Lemma: {t.lemma_}, Morph: {t.morph}')"
   ]
  },
  {
   "cell_type": "markdown",
   "metadata": {},
   "source": [
    "Unfortunately, it does not provide morphemic analysis, but it does provide the morphological features like number for nouns, or tense for verbs. \n",
    "\n",
    "Let's convert this into a function and look at other sentences as well:"
   ]
  },
  {
   "cell_type": "code",
   "execution_count": 7,
   "metadata": {},
   "outputs": [],
   "source": [
    "def morp_analyze(text):\n",
    "    return [(t.text, t.lemma_, t.pos_, t.morph) for t in nlp_fr(text)]"
   ]
  },
  {
   "cell_type": "markdown",
   "metadata": {},
   "source": [
    "Let' see how it works with a sentence with some complex tense:"
   ]
  },
  {
   "cell_type": "code",
   "execution_count": 8,
   "metadata": {},
   "outputs": [
    {
     "data": {
      "text/plain": [
       "[('J’', 'J’', 'PROPN', ),\n",
       " ('avais', 'avai', 'ADJ', Gender=Masc),\n",
       " ('fini', 'finir', 'VERB', Gender=Masc|Number=Sing|Tense=Past|VerbForm=Part),\n",
       " ('de', 'de', 'ADP', ),\n",
       " ('manger', 'manger', 'VERB', VerbForm=Inf),\n",
       " ('mon', 'mon', 'DET', Number=Sing|Poss=Yes),\n",
       " ('dessert', 'dessert', 'PROPN', Gender=Masc|Number=Sing),\n",
       " ('quand', 'quand', 'SCONJ', ),\n",
       " ('mon', 'mon', 'DET', Number=Sing|Poss=Yes),\n",
       " ('père', 'père', 'NOUN', Gender=Masc|Number=Sing),\n",
       " ('rentra',\n",
       "  'rentrer',\n",
       "  'VERB',\n",
       "  Mood=Ind|Number=Sing|Person=3|Tense=Fut|VerbForm=Fin),\n",
       " ('du', 'de', 'ADP', Definite=Def|Gender=Masc|Number=Sing|PronType=Art),\n",
       " ('travail', 'travail', 'NOUN', Gender=Masc|Number=Sing),\n",
       " ('.', '.', 'PUNCT', )]"
      ]
     },
     "execution_count": 8,
     "metadata": {},
     "output_type": "execute_result"
    }
   ],
   "source": [
    "morp_analyze(\"J’avais fini de manger mon dessert quand mon père rentra du travail.\")"
   ]
  },
  {
   "cell_type": "markdown",
   "metadata": {},
   "source": [
    "You can see that we can learn a great deal about the morphological features of the words in the sentence, meaning that we can use this information to measure morphological complexity of a particular language."
   ]
  },
  {
   "cell_type": "markdown",
   "metadata": {},
   "source": [
    "## 2. Morphological complexity of function vs. content words"
   ]
  },
  {
   "cell_type": "markdown",
   "metadata": {},
   "source": [
    "During our class, we discussed that function words are usually less morphologically complex than content words. We can use the spacy package to measure the morphological complexity of function and content words in a sentence. Let's see how we can do that.\n",
    "\n",
    "First, we will need to define a list of fuction POS tags. We can use the following list of POS tags to define function words:"
   ]
  },
  {
   "cell_type": "code",
   "execution_count": 9,
   "metadata": {},
   "outputs": [],
   "source": [
    "function_tags = ['DET', 'ADP', 'AUX', 'CCONJ', 'SCONJ', 'PRON', 'PART']"
   ]
  },
  {
   "cell_type": "markdown",
   "metadata": {},
   "source": [
    "The same for content words:"
   ]
  },
  {
   "cell_type": "code",
   "execution_count": 10,
   "metadata": {},
   "outputs": [],
   "source": [
    "content_tags = ['NOUN', 'VERB', 'ADJ', 'ADV']"
   ]
  },
  {
   "cell_type": "markdown",
   "metadata": {},
   "source": [
    "But we also need a text -- let's use the Bible in French:"
   ]
  },
  {
   "cell_type": "code",
   "execution_count": 11,
   "metadata": {},
   "outputs": [],
   "source": [
    "french_bible = open('French.txt', 'r', encoding='utf-8').read().split('\\n')"
   ]
  },
  {
   "cell_type": "markdown",
   "metadata": {},
   "source": [
    "Let's print a couple of sentences from the Bible to see how it looks like:"
   ]
  },
  {
   "cell_type": "code",
   "execution_count": 12,
   "metadata": {},
   "outputs": [
    {
     "data": {
      "text/plain": [
       "['Au commencement, Dieu créa les cieux et la terre.',\n",
       " 'La terre était informe et vide: il y avait des ténèbres à la surface de l`abîme, et l`esprit de Dieu se mouvait au-dessus des eaux.',\n",
       " 'Dieu dit: Que la lumière soit! Et la lumière fut.',\n",
       " 'Dieu vit que la lumière était bonne; et Dieu sépara la lumière d`avec les ténèbres.',\n",
       " 'Dieu appela la lumière jour, et il appela les ténèbres nuit. Ainsi, il y eut un soir, et il y eut un matin: ce fut le premier jour.',\n",
       " 'Dieu dit: Qu`il y ait une étendue entre les eaux, et qu`elle sépare les eaux d`avec les eaux.',\n",
       " 'Et Dieu fit l`étendue, et il sépara les eaux qui sont au-dessous de l`étendue d`avec les eaux qui sont au-dessus de l`étendue. Et cela fut ainsi.',\n",
       " 'Dieu appela l`étendue ciel. Ainsi, il y eut un soir, et il y eut un matin: ce fut le second jour.',\n",
       " 'Dieu dit: Que les eaux qui sont au-dessous du ciel se rassemblent en un seul lieu, et que le sec paraisse. Et cela fut ainsi.',\n",
       " 'Dieu appela le sec terre, et il appela l`amas des eaux mers. Dieu vit que cela était bon.']"
      ]
     },
     "execution_count": 12,
     "metadata": {},
     "output_type": "execute_result"
    }
   ],
   "source": [
    "french_bible[:10]"
   ]
  },
  {
   "cell_type": "markdown",
   "metadata": {},
   "source": [
    "Let's analyze each of these sentences, and count the morphological tags per word in content and function words:"
   ]
  },
  {
   "cell_type": "code",
   "execution_count": 13,
   "metadata": {},
   "outputs": [
    {
     "name": "stderr",
     "output_type": "stream",
     "text": [
      "100%|██████████| 1000/1000 [00:07<00:00, 139.17it/s]\n"
     ]
    }
   ],
   "source": [
    "cont_tags = []\n",
    "func_tags = []\n",
    "\n",
    "for line in tqdm(french_bible[:1000]):\n",
    "    for t in nlp_fr(line):\n",
    "        if t.pos_ in content_tags:\n",
    "            cont_tags.append(len(t.morph))\n",
    "        if t.pos_ in function_tags:\n",
    "            func_tags.append(len(t.morph))"
   ]
  },
  {
   "cell_type": "code",
   "execution_count": 14,
   "metadata": {},
   "outputs": [
    {
     "name": "stdout",
     "output_type": "stream",
     "text": [
      "Average number of morphemes in content words: 2.389647735442128\n",
      "Average number of morphemes in function words: 1.7815141492098494\n"
     ]
    }
   ],
   "source": [
    "print(f'Average number of morphemes in content words: {sum(cont_tags) / len(cont_tags)}')\n",
    "print(f'Average number of morphemes in function words: {sum(func_tags) / len(func_tags)}')"
   ]
  },
  {
   "cell_type": "code",
   "execution_count": 15,
   "metadata": {},
   "outputs": [
    {
     "data": {
      "image/png": "[encoded data removed]",
      "text/plain": [
       "<Figure size 1000x500 with 1 Axes>"
      ]
     },
     "metadata": {},
     "output_type": "display_data"
    }
   ],
   "source": [
    "plt.figure(figsize=(10, 5))\n",
    "# sns.pointplot(data=[cont_tags, func_tags], errorbar=(\"ci\", 95), linestyle='none')\n",
    "sns.boxplot(data=[cont_tags, func_tags], showmeans=True)\n",
    "plt.xticks([0, 1], ['Content words', 'Function words'])\n",
    "plt.ylabel('Morphological description length')\n",
    "sns.despine()\n",
    "plt.show()"
   ]
  },
  {
   "cell_type": "markdown",
   "metadata": {},
   "source": [
    "Let's look at English as well:"
   ]
  },
  {
   "cell_type": "code",
   "execution_count": 16,
   "metadata": {},
   "outputs": [
    {
     "name": "stderr",
     "output_type": "stream",
     "text": [
      "100%|██████████| 1000/1000 [00:07<00:00, 135.75it/s]\n"
     ]
    }
   ],
   "source": [
    "english_bible = open('English.txt', 'r', encoding='utf-8').read().split('\\n')\n",
    "\n",
    "nlp_en = spacy.load(\"en_core_web_sm\")\n",
    "\n",
    "cont_tags = []\n",
    "func_tags = []\n",
    "\n",
    "for line in tqdm(english_bible[:1000]):\n",
    "    for t in nlp_en(line):\n",
    "        if t.pos_ in content_tags:\n",
    "            cont_tags.append(len(t.morph))\n",
    "        if t.pos_ in function_tags:\n",
    "            func_tags.append(len(t.morph))"
   ]
  },
  {
   "cell_type": "code",
   "execution_count": 17,
   "metadata": {},
   "outputs": [
    {
     "data": {
      "image/png": "[encoded data removed]",
      "text/plain": [
       "<Figure size 1000x500 with 1 Axes>"
      ]
     },
     "metadata": {},
     "output_type": "display_data"
    }
   ],
   "source": [
    "plt.figure(figsize=(10, 5))\n",
    "# sns.pointplot(data=[cont_tags, func_tags], errorbar=(\"ci\", 95), linestyle='none')\n",
    "sns.boxplot(data=[cont_tags, func_tags], showmeans=True)\n",
    "plt.xticks([0, 1], ['Content words', 'Function words'])\n",
    "plt.ylabel('Morphological description length')\n",
    "sns.despine()\n",
    "plt.show()"
   ]
  },
  {
   "cell_type": "markdown",
   "metadata": {},
   "source": [
    "## 3. Morpheme to word ratio"
   ]
  },
  {
   "cell_type": "markdown",
   "metadata": {},
   "source": [
    "Finally, we can use the morphological features to approximate the morpheme to word ratio in a sentence. We can do this by counting the number of morphological features and dividing it by the number of words in the sentence. Let's see how we can do that. First, we will do it for French:"
   ]
  },
  {
   "cell_type": "code",
   "execution_count": 18,
   "metadata": {},
   "outputs": [],
   "source": [
    "num_morph = 0\n",
    "num_words = 0\n",
    "\n",
    "for sentence in french_bible[:1000]:\n",
    "    doc = nlp_fr(sentence)\n",
    "    for token in doc:\n",
    "        num_morph += len(token.morph)\n",
    "        num_words += 1"
   ]
  },
  {
   "cell_type": "markdown",
   "metadata": {},
   "source": [
    "Let's see what we get:"
   ]
  },
  {
   "cell_type": "code",
   "execution_count": 19,
   "metadata": {},
   "outputs": [
    {
     "name": "stdout",
     "output_type": "stream",
     "text": [
      "Average number of morphological features per word in French: 1.647645739910314\n"
     ]
    }
   ],
   "source": [
    "print(f'Average number of morphological features per word in French: {num_morph / num_words}')"
   ]
  },
  {
   "cell_type": "markdown",
   "metadata": {},
   "source": [
    "How can we be sure that we are getting the valid ratio. Let's sample 100, 200, 500 and 1000 random sentences from the Bible and calculate the morphological features to word ratio for each of these samples. We can then plot the distribution of the morpheme to word ratio for each of these samples. Let's do that:"
   ]
  },
  {
   "cell_type": "code",
   "execution_count": 20,
   "metadata": {},
   "outputs": [
    {
     "name": "stderr",
     "output_type": "stream",
     "text": [
      "100%|██████████| 4/4 [00:12<00:00,  3.00s/it]\n",
      "100%|██████████| 4/4 [00:11<00:00,  2.94s/it]\n",
      "100%|██████████| 4/4 [00:11<00:00,  2.91s/it]\n",
      "100%|██████████| 4/4 [00:11<00:00,  2.85s/it]\n",
      "100%|██████████| 4/4 [00:11<00:00,  2.87s/it]\n"
     ]
    }
   ],
   "source": [
    "ratios = []\n",
    "\n",
    "for _ in range(5):  # Repeat 5 times\n",
    "    ratio_sentences = []\n",
    "    for size in tqdm([100, 200, 500, 1000]):\n",
    "        num_morph = 0\n",
    "        num_words = 0\n",
    "        for sentence in random.sample(english_bible, size):\n",
    "            doc = nlp_en(sentence)\n",
    "            for token in doc:\n",
    "                num_morph += len(token.morph)\n",
    "                num_words += 1\n",
    "        ratio_sentences.append(num_morph / num_words)\n",
    "    ratios.append(ratio_sentences)"
   ]
  },
  {
   "cell_type": "code",
   "execution_count": 27,
   "metadata": {},
   "outputs": [
    {
     "data": {
      "image/png": "[encoded data removed]",
      "text/plain": [
       "<Figure size 800x400 with 1 Axes>"
      ]
     },
     "metadata": {},
     "output_type": "display_data"
    }
   ],
   "source": [
    "plt.figure(figsize=(8, 4))\n",
    "for ratio in ratios:\n",
    "    plt.plot([100, 200, 500, 1000], ratio, \n",
    "             marker='o', color='black', \n",
    "             linestyle='-', linewidth=1)\n",
    "plt.xlabel('Number of sentences')\n",
    "plt.ylabel('Morphological feautres per word')\n",
    "plt.xticks([100, 200, 500, 1000])\n",
    "sns.despine()\n",
    "plt.show()"
   ]
  },
  {
   "cell_type": "markdown",
   "metadata": {},
   "source": [
    "As we can see, the ratio is quite stable when 1000 sentences are sampled, so we can use such a small sample to estimate this ratio. What happends when you sample 5000 sentences?"
   ]
  },
  {
   "cell_type": "code",
   "execution_count": 28,
   "metadata": {},
   "outputs": [
    {
     "name": "stdout",
     "output_type": "stream",
     "text": [
      "Average number of morphological features per word in English (5000 sentences): 1.3388602998356787\n"
     ]
    }
   ],
   "source": [
    "num_morph = 0\n",
    "num_words = 0\n",
    "\n",
    "for sentence in random.sample(english_bible, 5000):\n",
    "    doc = nlp_en(sentence)\n",
    "    for token in doc:\n",
    "        num_morph += len(token.morph)\n",
    "        num_words += 1\n",
    "\n",
    "print(f'Average number of morphological features per word in English (5000 sentences): {num_morph / num_words}')"
   ]
  },
  {
   "cell_type": "markdown",
   "metadata": {},
   "source": [
    "It's pretty much the same as with 1000 sentences. So 1000 sentences should be enough to estimate the morphological tag to word ratio in a language."
   ]
  },
  {
   "cell_type": "markdown",
   "metadata": {},
   "source": [
    "Let's compute this ratio for German now:"
   ]
  },
  {
   "cell_type": "code",
   "execution_count": 29,
   "metadata": {},
   "outputs": [],
   "source": [
    "german_bible = open('German.txt', 'r', encoding='utf-8').read().split('\\n')\n",
    "\n",
    "nlp_de = spacy.load(\"de_core_news_sm\")"
   ]
  },
  {
   "cell_type": "markdown",
   "metadata": {},
   "source": [
    "Let's also write the function to calculate the morpheme to word ratio for a given language:"
   ]
  },
  {
   "cell_type": "code",
   "execution_count": 32,
   "metadata": {},
   "outputs": [],
   "source": [
    "def morp_ratio(bible, nlp, num_sents):\n",
    "    '''\n",
    "    Compute the average number of morphological features per word in a given text.\n",
    "\n",
    "    Args:   \n",
    "    bible: list of strings, the text to analyze\n",
    "    nlp: Spacy NLP object, the language model to use\n",
    "    num_sents: int, the number of sentences to sample\n",
    "    '''\n",
    "    num_morph = 0\n",
    "    num_words = 0\n",
    "    for sentence in random.sample(bible, num_sents):\n",
    "        doc = nlp(sentence)\n",
    "        for token in doc:\n",
    "            num_morph += len(token.morph)\n",
    "            num_words += 1\n",
    "    return num_morph / num_words"
   ]
  },
  {
   "cell_type": "markdown",
   "metadata": {},
   "source": [
    "The ratio for German:"
   ]
  },
  {
   "cell_type": "code",
   "execution_count": 33,
   "metadata": {},
   "outputs": [
    {
     "data": {
      "text/plain": [
       "2.3795530597330665"
      ]
     },
     "execution_count": 33,
     "metadata": {},
     "output_type": "execute_result"
    }
   ],
   "source": [
    "morp_ratio(german_bible, nlp_de, 1000)"
   ]
  },
  {
   "cell_type": "markdown",
   "metadata": {},
   "source": [
    "Now, you can try the same thing for other languages, like Russian. Does this number match with their morphological type?"
   ]
  },
  {
   "cell_type": "code",
   "execution_count": 36,
   "metadata": {},
   "outputs": [],
   "source": [
    "russian_bible = open('Russian.txt', 'r', encoding='utf-8').read().split('\\n')\n",
    "\n",
    "nlp_ru = spacy.load(\"ru_core_news_sm\")"
   ]
  },
  {
   "cell_type": "code",
   "execution_count": 37,
   "metadata": {},
   "outputs": [
    {
     "data": {
      "text/plain": [
       "2.514566166869287"
      ]
     },
     "execution_count": 37,
     "metadata": {},
     "output_type": "execute_result"
    }
   ],
   "source": [
    "morp_ratio(russian_bible, nlp_ru, 1000)"
   ]
  },
  {
   "cell_type": "markdown",
   "metadata": {},
   "source": [
    "That checks out! The average number of morphological features per word in Russian is indeed higher than in French or English, for instance. Let's plot the results for all four languages."
   ]
  },
  {
   "cell_type": "code",
   "execution_count": 38,
   "metadata": {},
   "outputs": [],
   "source": [
    "# sample 1000 sentences from each Bible 4 times and plot the ratio for the 4 languages\n",
    "\n",
    "ratios = []\n",
    "\n",
    "for _ in range(4):  # Repeat 4 times\n",
    "    ratio_sentences = []\n",
    "    for bible, nlp in zip([english_bible, french_bible, german_bible, russian_bible], [nlp_en, nlp_fr, nlp_de, nlp_ru]):\n",
    "        ratio_sentences.append(morp_ratio(bible, nlp, 1000))\n",
    "    ratios.append(ratio_sentences)\n"
   ]
  },
  {
   "cell_type": "markdown",
   "metadata": {},
   "source": [
    "Let's plot the results for all four languages:"
   ]
  },
  {
   "cell_type": "code",
   "execution_count": 46,
   "metadata": {},
   "outputs": [
    {
     "data": {
      "image/png": "[encoded data removed]",
      "text/plain": [
       "<Figure size 800x400 with 1 Axes>"
      ]
     },
     "metadata": {},
     "output_type": "display_data"
    }
   ],
   "source": [
    "plt.figure(figsize=(8, 4))\n",
    "for ratio in ratios:\n",
    "    plt.plot(['English', 'French', 'German', 'Russian'], ratio, \n",
    "             marker='o', color='black', \n",
    "             linestyle='-', linewidth=0.1)\n",
    "plt.xlabel('Language')\n",
    "plt.ylabel('Morphological feautres per word')\n",
    "sns.despine()\n",
    "plt.show()"
   ]
  },
  {
   "cell_type": "markdown",
   "metadata": {},
   "source": [
    "As you can see our results are consistent with the morphological type of the languages. English and French have a lower morpheme to word ratio, while Russian and German have a higher morpheme to word ratio. This is consistent with the morphological type of the languages, namely that English and French are analytic languages, while Russian and German are synthetic languages."
   ]
  }
 ],
 "metadata": {
  "kernelspec": {
   "display_name": "cpes_3.12",
   "language": "python",
   "name": "python3"
  },
  "language_info": {
   "codemirror_mode": {
    "name": "ipython",
    "version": 3
   },
   "file_extension": ".py",
   "mimetype": "text/x-python",
   "name": "python",
   "nbconvert_exporter": "python",
   "pygments_lexer": "ipython3",
   "version": "3.12.4"
  }
 },
 "nbformat": 4,
 "nbformat_minor": 2
}
