{
 "cells": [
  {
   "cell_type": "code",
   "execution_count": 1,
   "metadata": {
    "colab": {
     "base_uri": "https://localhost:8080/",
     "height": 809
    },
    "id": "NzamkIb0UJ0G",
    "outputId": "1564b0ab-6172-4852-fc99-1b5dafe8a57b"
   },
   "outputs": [],
   "source": [
    "# !pip install basemap"
   ]
  },
  {
   "cell_type": "code",
   "execution_count": 2,
   "metadata": {
    "id": "xiV8x-2VSzHB"
   },
   "outputs": [
    {
     "name": "stderr",
     "output_type": "stream",
     "text": [
      "/Users/alexeykoshevoy/.pyenv/versions/cpes_3.12/lib/python3.12/site-packages/tqdm/auto.py:21: TqdmWarning: IProgress not found. Please update jupyter and ipywidgets. See https://ipywidgets.readthedocs.io/en/stable/user_install.html\n",
      "  from .autonotebook import tqdm as notebook_tqdm\n"
     ]
    }
   ],
   "source": [
    "import pandas as pd # data-frame manipulation\n",
    "from tqdm.auto import tqdm # progress bar\n",
    "import matplotlib.pyplot as plt # plotting\n",
    "import seaborn as sns # plotting\n",
    "import numpy as np # linear algebra\n",
    "from mpl_toolkits.basemap import Basemap # map plotting\n",
    "import requests # fetching data from the internet\n",
    "from scipy import stats # statistical tests\n",
    "\n",
    "# set the plot style\n",
    "sns.set(context='paper', style='ticks',\n",
    "        font_scale=1, palette='colorblind')"
   ]
  },
  {
   "cell_type": "markdown",
   "metadata": {
    "id": "BKQ4DdtWSzHC"
   },
   "source": [
    "## Question\n",
    "\n",
    "This TD will answer the following question:\n",
    "\n",
    "*Does the average temperature affect the colexification of SNOW and ICE in the languages of the world?*\n",
    "\n",
    "Yesterday, we looked at [this paper](https://journals.plos.org/plosone/article?id=10.1371/journal.pone.0151138), where the authors tested whether languages spoken in the colder climates are more likely to colexify the senses ICE and SNOW than the languages spoken in the warmer climates. However, they have only looked at 166 languages, while we have the possibility to test this hypothesis on a much larger set of languages from the [Lexibank](https://lexibank.clld.org/) database. The goal of today session would be to reproduce their results on a much larger sample of languages"
   ]
  },
  {
   "cell_type": "markdown",
   "metadata": {
    "id": "jGQ-xFxUSzHC"
   },
   "source": [
    "## Data\n",
    "\n",
    "### 1. Extracting data from Lexibank"
   ]
  },
  {
   "cell_type": "markdown",
   "metadata": {
    "id": "bt7xBBoKSzHD"
   },
   "source": [
    "First, we will need to extract data from Lexibank. It has been conveniently gathered for you by the creators of this database, so you can look at it below:"
   ]
  },
  {
   "cell_type": "code",
   "execution_count": 3,
   "metadata": {
    "colab": {
     "base_uri": "https://localhost:8080/",
     "height": 206
    },
    "id": "m8yQzjtdSzHD",
    "outputId": "054a1739-55f2-4e2d-e9d2-5c7573543a98"
   },
   "outputs": [
    {
     "data": {
      "text/html": [
       "<div>\n",
       "<style scoped>\n",
       "    .dataframe tbody tr th:only-of-type {\n",
       "        vertical-align: middle;\n",
       "    }\n",
       "\n",
       "    .dataframe tbody tr th {\n",
       "        vertical-align: top;\n",
       "    }\n",
       "\n",
       "    .dataframe thead th {\n",
       "        text-align: right;\n",
       "    }\n",
       "</style>\n",
       "<table border=\"1\" class=\"dataframe\">\n",
       "  <thead>\n",
       "    <tr style=\"text-align: right;\">\n",
       "      <th></th>\n",
       "      <th>Language_ID</th>\n",
       "      <th>Form</th>\n",
       "      <th>Latitude</th>\n",
       "      <th>Longitude</th>\n",
       "      <th>Glottocode</th>\n",
       "      <th>Concepticon_Gloss</th>\n",
       "      <th>Family</th>\n",
       "    </tr>\n",
       "  </thead>\n",
       "  <tbody>\n",
       "    <tr>\n",
       "      <th>0</th>\n",
       "      <td>aaleykusunda-KusundaK</td>\n",
       "      <td>ɐ̃ː.ʤi</td>\n",
       "      <td>28.000000</td>\n",
       "      <td>82.260000</td>\n",
       "      <td>kusu1250</td>\n",
       "      <td>ABOVE</td>\n",
       "      <td>NaN</td>\n",
       "    </tr>\n",
       "    <tr>\n",
       "      <th>1</th>\n",
       "      <td>abrahammonpa-MonpaKalaktang</td>\n",
       "      <td>thuŋga</td>\n",
       "      <td>27.104162</td>\n",
       "      <td>92.113017</td>\n",
       "      <td>kala1376</td>\n",
       "      <td>ABOVE</td>\n",
       "      <td>Sino-Tibetan</td>\n",
       "    </tr>\n",
       "    <tr>\n",
       "      <th>2</th>\n",
       "      <td>abrahammonpa-MonpaDirang</td>\n",
       "      <td>thuŋga</td>\n",
       "      <td>27.349590</td>\n",
       "      <td>92.279140</td>\n",
       "      <td>tsha1245</td>\n",
       "      <td>ABOVE</td>\n",
       "      <td>Sino-Tibetan</td>\n",
       "    </tr>\n",
       "    <tr>\n",
       "      <th>3</th>\n",
       "      <td>abrahammonpa-MonpaChangprong</td>\n",
       "      <td>jur</td>\n",
       "      <td>27.578928</td>\n",
       "      <td>91.876393</td>\n",
       "      <td>dakp1242</td>\n",
       "      <td>ABOVE</td>\n",
       "      <td>Sino-Tibetan</td>\n",
       "    </tr>\n",
       "    <tr>\n",
       "      <th>4</th>\n",
       "      <td>abrahammonpa-SartangDarbuB</td>\n",
       "      <td>khuŋlo</td>\n",
       "      <td>27.329171</td>\n",
       "      <td>92.358727</td>\n",
       "      <td>sart1249</td>\n",
       "      <td>ABOVE</td>\n",
       "      <td>Sino-Tibetan</td>\n",
       "    </tr>\n",
       "  </tbody>\n",
       "</table>\n",
       "</div>"
      ],
      "text/plain": [
       "                    Language_ID    Form   Latitude  Longitude Glottocode  \\\n",
       "0         aaleykusunda-KusundaK  ɐ̃ː.ʤi  28.000000  82.260000   kusu1250   \n",
       "1   abrahammonpa-MonpaKalaktang  thuŋga  27.104162  92.113017   kala1376   \n",
       "2      abrahammonpa-MonpaDirang  thuŋga  27.349590  92.279140   tsha1245   \n",
       "3  abrahammonpa-MonpaChangprong     jur  27.578928  91.876393   dakp1242   \n",
       "4    abrahammonpa-SartangDarbuB  khuŋlo  27.329171  92.358727   sart1249   \n",
       "\n",
       "  Concepticon_Gloss        Family  \n",
       "0             ABOVE           NaN  \n",
       "1             ABOVE  Sino-Tibetan  \n",
       "2             ABOVE  Sino-Tibetan  \n",
       "3             ABOVE  Sino-Tibetan  \n",
       "4             ABOVE  Sino-Tibetan  "
      ]
     },
     "execution_count": 3,
     "metadata": {},
     "output_type": "execute_result"
    }
   ],
   "source": [
    "all_lexibank = pd.read_csv('https://github.com/alexeykosh/intro-to-ling/raw/refs/heads/main/S8/lexibank_clipped.csv',\n",
    "                           low_memory=False, index_col=0)\n",
    "all_lexibank.head(5)"
   ]
  },
  {
   "cell_type": "markdown",
   "metadata": {
    "id": "hR42vzKiSzHD"
   },
   "source": [
    "Let's try to make sense of different columns first:"
   ]
  },
  {
   "cell_type": "code",
   "execution_count": 4,
   "metadata": {
    "colab": {
     "base_uri": "https://localhost:8080/"
    },
    "id": "f2eOPtziSzHD",
    "outputId": "639f5f04-ec16-4ddf-fccb-60887f5d3c47"
   },
   "outputs": [
    {
     "data": {
      "text/plain": [
       "Index(['Language_ID', 'Form', 'Latitude', 'Longitude', 'Glottocode',\n",
       "       'Concepticon_Gloss', 'Family'],\n",
       "      dtype='object')"
      ]
     },
     "execution_count": 4,
     "metadata": {},
     "output_type": "execute_result"
    }
   ],
   "source": [
    "all_lexibank.columns"
   ]
  },
  {
   "cell_type": "markdown",
   "metadata": {
    "id": "3RtmPnj3SzHD"
   },
   "source": [
    "What columns do you think we will need to consider for testing the hypothesis in question? Let's also look at how many rows it has:"
   ]
  },
  {
   "cell_type": "code",
   "execution_count": 5,
   "metadata": {
    "colab": {
     "base_uri": "https://localhost:8080/"
    },
    "id": "ZLTGJrv8SzHD",
    "outputId": "eb232090-6513-4c0b-8143-212b5641a272"
   },
   "outputs": [
    {
     "data": {
      "text/plain": [
       "(709638, 7)"
      ]
     },
     "execution_count": 5,
     "metadata": {},
     "output_type": "execute_result"
    }
   ],
   "source": [
    "all_lexibank.shape"
   ]
  },
  {
   "cell_type": "markdown",
   "metadata": {
    "id": "Q0LnPyY6SzHE"
   },
   "source": [
    "How many unique languages are there?"
   ]
  },
  {
   "cell_type": "code",
   "execution_count": 6,
   "metadata": {
    "colab": {
     "base_uri": "https://localhost:8080/"
    },
    "id": "aOvIa1DAKUca",
    "outputId": "2b34edcc-04c6-458e-9257-e93e386cc493"
   },
   "outputs": [
    {
     "data": {
      "text/plain": [
       "2029"
      ]
     },
     "execution_count": 6,
     "metadata": {},
     "output_type": "execute_result"
    }
   ],
   "source": [
    "all_lexibank['Glottocode'].nunique()"
   ]
  },
  {
   "cell_type": "markdown",
   "metadata": {
    "id": "uDS-kQKFSzHE"
   },
   "source": [
    "How many linguistc families?"
   ]
  },
  {
   "cell_type": "code",
   "execution_count": 7,
   "metadata": {
    "colab": {
     "base_uri": "https://localhost:8080/"
    },
    "id": "RqhuTmgiSzHE",
    "outputId": "60bad933-19f6-4abb-b5f1-78985ad61328"
   },
   "outputs": [
    {
     "data": {
      "text/plain": [
       "192"
      ]
     },
     "execution_count": 7,
     "metadata": {},
     "output_type": "execute_result"
    }
   ],
   "source": [
    "all_lexibank['Family'].nunique()"
   ]
  },
  {
   "cell_type": "code",
   "execution_count": 8,
   "metadata": {
    "colab": {
     "base_uri": "https://localhost:8080/",
     "height": 423
    },
    "id": "gNPfBUg-OMq8",
    "outputId": "9de28bc6-22c8-4bc7-cd12-9fcd8ece326a"
   },
   "outputs": [
    {
     "data": {
      "text/html": [
       "<div>\n",
       "<style scoped>\n",
       "    .dataframe tbody tr th:only-of-type {\n",
       "        vertical-align: middle;\n",
       "    }\n",
       "\n",
       "    .dataframe tbody tr th {\n",
       "        vertical-align: top;\n",
       "    }\n",
       "\n",
       "    .dataframe thead th {\n",
       "        text-align: right;\n",
       "    }\n",
       "</style>\n",
       "<table border=\"1\" class=\"dataframe\">\n",
       "  <thead>\n",
       "    <tr style=\"text-align: right;\">\n",
       "      <th></th>\n",
       "      <th>Language_ID</th>\n",
       "      <th>Form</th>\n",
       "      <th>Latitude</th>\n",
       "      <th>Longitude</th>\n",
       "      <th>Glottocode</th>\n",
       "      <th>Concepticon_Gloss</th>\n",
       "      <th>Family</th>\n",
       "    </tr>\n",
       "  </thead>\n",
       "  <tbody>\n",
       "    <tr>\n",
       "      <th>1303</th>\n",
       "      <td>northeuralex-fra</td>\n",
       "      <td>tu</td>\n",
       "      <td>48.0</td>\n",
       "      <td>2.0</td>\n",
       "      <td>stan1290</td>\n",
       "      <td>ALL</td>\n",
       "      <td>Indo-European</td>\n",
       "    </tr>\n",
       "    <tr>\n",
       "      <th>2640</th>\n",
       "      <td>northeuralex-fra</td>\n",
       "      <td>fuʁˈmi</td>\n",
       "      <td>48.0</td>\n",
       "      <td>2.0</td>\n",
       "      <td>stan1290</td>\n",
       "      <td>ANT</td>\n",
       "      <td>Indo-European</td>\n",
       "    </tr>\n",
       "    <tr>\n",
       "      <th>3809</th>\n",
       "      <td>northeuralex-fra</td>\n",
       "      <td>moˈvɛ</td>\n",
       "      <td>48.0</td>\n",
       "      <td>2.0</td>\n",
       "      <td>stan1290</td>\n",
       "      <td>BAD</td>\n",
       "      <td>Indo-European</td>\n",
       "    </tr>\n",
       "    <tr>\n",
       "      <th>6016</th>\n",
       "      <td>northeuralex-fra</td>\n",
       "      <td>viˈvɑ̃</td>\n",
       "      <td>48.0</td>\n",
       "      <td>2.0</td>\n",
       "      <td>stan1290</td>\n",
       "      <td>BE ALIVE</td>\n",
       "      <td>Indo-European</td>\n",
       "    </tr>\n",
       "    <tr>\n",
       "      <th>6017</th>\n",
       "      <td>northeuralex-fra</td>\n",
       "      <td>ˈviːvʁə</td>\n",
       "      <td>48.0</td>\n",
       "      <td>2.0</td>\n",
       "      <td>stan1290</td>\n",
       "      <td>BE ALIVE</td>\n",
       "      <td>Indo-European</td>\n",
       "    </tr>\n",
       "    <tr>\n",
       "      <th>...</th>\n",
       "      <td>...</td>\n",
       "      <td>...</td>\n",
       "      <td>...</td>\n",
       "      <td>...</td>\n",
       "      <td>...</td>\n",
       "      <td>...</td>\n",
       "      <td>...</td>\n",
       "    </tr>\n",
       "    <tr>\n",
       "      <th>687284</th>\n",
       "      <td>northeuralex-fra</td>\n",
       "      <td>tʁaˈdɥiːʁ</td>\n",
       "      <td>48.0</td>\n",
       "      <td>2.0</td>\n",
       "      <td>stan1290</td>\n",
       "      <td>TRANSLATE</td>\n",
       "      <td>Indo-European</td>\n",
       "    </tr>\n",
       "    <tr>\n",
       "      <th>687395</th>\n",
       "      <td>northeuralex-fra</td>\n",
       "      <td>ʁəmaʁˈke</td>\n",
       "      <td>48.0</td>\n",
       "      <td>2.0</td>\n",
       "      <td>stan1290</td>\n",
       "      <td>NOTICE (SOMETHING)</td>\n",
       "      <td>Indo-European</td>\n",
       "    </tr>\n",
       "    <tr>\n",
       "      <th>687396</th>\n",
       "      <td>northeuralex-fra</td>\n",
       "      <td>apɛʁsəˈvwaːʁ</td>\n",
       "      <td>48.0</td>\n",
       "      <td>2.0</td>\n",
       "      <td>stan1290</td>\n",
       "      <td>NOTICE (SOMETHING)</td>\n",
       "      <td>Indo-European</td>\n",
       "    </tr>\n",
       "    <tr>\n",
       "      <th>687516</th>\n",
       "      <td>northeuralex-fra</td>\n",
       "      <td>ʁəkɔˈnɛːtʁə</td>\n",
       "      <td>48.0</td>\n",
       "      <td>2.0</td>\n",
       "      <td>stan1290</td>\n",
       "      <td>RECOGNIZE (SOMEBODY)</td>\n",
       "      <td>Indo-European</td>\n",
       "    </tr>\n",
       "    <tr>\n",
       "      <th>687628</th>\n",
       "      <td>northeuralex-fra</td>\n",
       "      <td>kalkyˈle</td>\n",
       "      <td>48.0</td>\n",
       "      <td>2.0</td>\n",
       "      <td>stan1290</td>\n",
       "      <td>CALCULATE</td>\n",
       "      <td>Indo-European</td>\n",
       "    </tr>\n",
       "  </tbody>\n",
       "</table>\n",
       "<p>1147 rows × 7 columns</p>\n",
       "</div>"
      ],
      "text/plain": [
       "             Language_ID          Form  Latitude  Longitude Glottocode  \\\n",
       "1303    northeuralex-fra            tu      48.0        2.0   stan1290   \n",
       "2640    northeuralex-fra        fuʁˈmi      48.0        2.0   stan1290   \n",
       "3809    northeuralex-fra         moˈvɛ      48.0        2.0   stan1290   \n",
       "6016    northeuralex-fra        viˈvɑ̃      48.0        2.0   stan1290   \n",
       "6017    northeuralex-fra       ˈviːvʁə      48.0        2.0   stan1290   \n",
       "...                  ...           ...       ...        ...        ...   \n",
       "687284  northeuralex-fra     tʁaˈdɥiːʁ      48.0        2.0   stan1290   \n",
       "687395  northeuralex-fra      ʁəmaʁˈke      48.0        2.0   stan1290   \n",
       "687396  northeuralex-fra  apɛʁsəˈvwaːʁ      48.0        2.0   stan1290   \n",
       "687516  northeuralex-fra   ʁəkɔˈnɛːtʁə      48.0        2.0   stan1290   \n",
       "687628  northeuralex-fra      kalkyˈle      48.0        2.0   stan1290   \n",
       "\n",
       "           Concepticon_Gloss         Family  \n",
       "1303                     ALL  Indo-European  \n",
       "2640                     ANT  Indo-European  \n",
       "3809                     BAD  Indo-European  \n",
       "6016                BE ALIVE  Indo-European  \n",
       "6017                BE ALIVE  Indo-European  \n",
       "...                      ...            ...  \n",
       "687284             TRANSLATE  Indo-European  \n",
       "687395    NOTICE (SOMETHING)  Indo-European  \n",
       "687396    NOTICE (SOMETHING)  Indo-European  \n",
       "687516  RECOGNIZE (SOMEBODY)  Indo-European  \n",
       "687628             CALCULATE  Indo-European  \n",
       "\n",
       "[1147 rows x 7 columns]"
      ]
     },
     "execution_count": 8,
     "metadata": {},
     "output_type": "execute_result"
    }
   ],
   "source": [
    "all_lexibank.query('Glottocode == \"stan1290\"')"
   ]
  },
  {
   "cell_type": "code",
   "execution_count": 9,
   "metadata": {
    "colab": {
     "base_uri": "https://localhost:8080/",
     "height": 423
    },
    "id": "D06rwtzRKvL5",
    "outputId": "4a381850-aea6-4259-d0b0-003a011dad89"
   },
   "outputs": [
    {
     "data": {
      "text/html": [
       "<div>\n",
       "<style scoped>\n",
       "    .dataframe tbody tr th:only-of-type {\n",
       "        vertical-align: middle;\n",
       "    }\n",
       "\n",
       "    .dataframe tbody tr th {\n",
       "        vertical-align: top;\n",
       "    }\n",
       "\n",
       "    .dataframe thead th {\n",
       "        text-align: right;\n",
       "    }\n",
       "</style>\n",
       "<table border=\"1\" class=\"dataframe\">\n",
       "  <thead>\n",
       "    <tr style=\"text-align: right;\">\n",
       "      <th></th>\n",
       "      <th>Language_ID</th>\n",
       "      <th>Form</th>\n",
       "      <th>Latitude</th>\n",
       "      <th>Longitude</th>\n",
       "      <th>Glottocode</th>\n",
       "      <th>Concepticon_Gloss</th>\n",
       "      <th>Family</th>\n",
       "    </tr>\n",
       "  </thead>\n",
       "  <tbody>\n",
       "    <tr>\n",
       "      <th>0</th>\n",
       "      <td>aaleykusunda-KusundaK</td>\n",
       "      <td>ɐ̃ː.ʤi</td>\n",
       "      <td>28.000000</td>\n",
       "      <td>82.260000</td>\n",
       "      <td>kusu1250</td>\n",
       "      <td>ABOVE</td>\n",
       "      <td>NaN</td>\n",
       "    </tr>\n",
       "    <tr>\n",
       "      <th>8</th>\n",
       "      <td>abrahammonpa-HrusoAkaJamiri</td>\n",
       "      <td>ʔodɹu</td>\n",
       "      <td>27.184929</td>\n",
       "      <td>92.599114</td>\n",
       "      <td>hrus1242</td>\n",
       "      <td>ABOVE</td>\n",
       "      <td>NaN</td>\n",
       "    </tr>\n",
       "    <tr>\n",
       "      <th>402</th>\n",
       "      <td>johanssonsoundsymbolic-Abun</td>\n",
       "      <td>nim</td>\n",
       "      <td>-0.570730</td>\n",
       "      <td>132.416000</td>\n",
       "      <td>abun1252</td>\n",
       "      <td>ABOVE</td>\n",
       "      <td>NaN</td>\n",
       "    </tr>\n",
       "    <tr>\n",
       "      <th>407</th>\n",
       "      <td>johanssonsoundsymbolic-Alsea</td>\n",
       "      <td>qauʔx</td>\n",
       "      <td>44.408000</td>\n",
       "      <td>-123.940000</td>\n",
       "      <td>alse1251</td>\n",
       "      <td>ABOVE</td>\n",
       "      <td>NaN</td>\n",
       "    </tr>\n",
       "    <tr>\n",
       "      <th>411</th>\n",
       "      <td>johanssonsoundsymbolic-Atakapa</td>\n",
       "      <td>itse</td>\n",
       "      <td>30.912100</td>\n",
       "      <td>-93.082700</td>\n",
       "      <td>atak1252</td>\n",
       "      <td>ABOVE</td>\n",
       "      <td>NaN</td>\n",
       "    </tr>\n",
       "    <tr>\n",
       "      <th>...</th>\n",
       "      <td>...</td>\n",
       "      <td>...</td>\n",
       "      <td>...</td>\n",
       "      <td>...</td>\n",
       "      <td>...</td>\n",
       "      <td>...</td>\n",
       "      <td>...</td>\n",
       "    </tr>\n",
       "    <tr>\n",
       "      <th>708392</th>\n",
       "      <td>transnewguineaorg-pyu</td>\n",
       "      <td>ᵽuǥiʔ</td>\n",
       "      <td>-4.450030</td>\n",
       "      <td>141.018000</td>\n",
       "      <td>pyuu1245</td>\n",
       "      <td>EARTH (WET SUBSTANCE)</td>\n",
       "      <td>NaN</td>\n",
       "    </tr>\n",
       "    <tr>\n",
       "      <th>709303</th>\n",
       "      <td>transnewguineaorg-pyu</td>\n",
       "      <td>budiaʔ</td>\n",
       "      <td>-4.450030</td>\n",
       "      <td>141.018000</td>\n",
       "      <td>pyuu1245</td>\n",
       "      <td>FISHING SPEAR</td>\n",
       "      <td>NaN</td>\n",
       "    </tr>\n",
       "    <tr>\n",
       "      <th>709561</th>\n",
       "      <td>transnewguineaorg-keuw</td>\n",
       "      <td>préem-ô</td>\n",
       "      <td>-3.193280</td>\n",
       "      <td>136.140000</td>\n",
       "      <td>kehu1238</td>\n",
       "      <td>JOURNEY</td>\n",
       "      <td>NaN</td>\n",
       "    </tr>\n",
       "    <tr>\n",
       "      <th>709562</th>\n",
       "      <td>transnewguineaorg-keuw</td>\n",
       "      <td>páudn-yó_məә̀kəә̀-yô</td>\n",
       "      <td>-3.193280</td>\n",
       "      <td>136.140000</td>\n",
       "      <td>kehu1238</td>\n",
       "      <td>TOENAIL</td>\n",
       "      <td>NaN</td>\n",
       "    </tr>\n",
       "    <tr>\n",
       "      <th>709563</th>\n",
       "      <td>transnewguineaorg-keuw</td>\n",
       "      <td>páu-kísìt-ô</td>\n",
       "      <td>-3.193280</td>\n",
       "      <td>136.140000</td>\n",
       "      <td>kehu1238</td>\n",
       "      <td>TOENAIL</td>\n",
       "      <td>NaN</td>\n",
       "    </tr>\n",
       "  </tbody>\n",
       "</table>\n",
       "<p>19322 rows × 7 columns</p>\n",
       "</div>"
      ],
      "text/plain": [
       "                           Language_ID                  Form   Latitude  \\\n",
       "0                aaleykusunda-KusundaK                ɐ̃ː.ʤi  28.000000   \n",
       "8          abrahammonpa-HrusoAkaJamiri                 ʔodɹu  27.184929   \n",
       "402        johanssonsoundsymbolic-Abun                   nim  -0.570730   \n",
       "407       johanssonsoundsymbolic-Alsea                 qauʔx  44.408000   \n",
       "411     johanssonsoundsymbolic-Atakapa                  itse  30.912100   \n",
       "...                                ...                   ...        ...   \n",
       "708392           transnewguineaorg-pyu                 ᵽuǥiʔ  -4.450030   \n",
       "709303           transnewguineaorg-pyu                budiaʔ  -4.450030   \n",
       "709561          transnewguineaorg-keuw               préem-ô  -3.193280   \n",
       "709562          transnewguineaorg-keuw  páudn-yó_məә̀kəә̀-yô  -3.193280   \n",
       "709563          transnewguineaorg-keuw           páu-kísìt-ô  -3.193280   \n",
       "\n",
       "         Longitude Glottocode      Concepticon_Gloss Family  \n",
       "0        82.260000   kusu1250                  ABOVE    NaN  \n",
       "8        92.599114   hrus1242                  ABOVE    NaN  \n",
       "402     132.416000   abun1252                  ABOVE    NaN  \n",
       "407    -123.940000   alse1251                  ABOVE    NaN  \n",
       "411     -93.082700   atak1252                  ABOVE    NaN  \n",
       "...            ...        ...                    ...    ...  \n",
       "708392  141.018000   pyuu1245  EARTH (WET SUBSTANCE)    NaN  \n",
       "709303  141.018000   pyuu1245          FISHING SPEAR    NaN  \n",
       "709561  136.140000   kehu1238                JOURNEY    NaN  \n",
       "709562  136.140000   kehu1238                TOENAIL    NaN  \n",
       "709563  136.140000   kehu1238                TOENAIL    NaN  \n",
       "\n",
       "[19322 rows x 7 columns]"
      ]
     },
     "execution_count": 9,
     "metadata": {},
     "output_type": "execute_result"
    }
   ],
   "source": [
    "all_lexibank[all_lexibank['Family'].isna()]"
   ]
  },
  {
   "cell_type": "markdown",
   "metadata": {
    "id": "9UT8XPNbSzHE"
   },
   "source": [
    "Ok, now let's focus on our hypothesis. We are interested in two senses from lexibank, namely SNOW and ICE. Let's store them in a list as strings:"
   ]
  },
  {
   "cell_type": "code",
   "execution_count": 10,
   "metadata": {
    "id": "gbsBLhxQSzHE"
   },
   "outputs": [],
   "source": [
    "terms_for_snow = [\n",
    "    \"ICE\", \"SNOW\"\n",
    "]"
   ]
  },
  {
   "cell_type": "markdown",
   "metadata": {
    "id": "V4-fUy7LSzHF"
   },
   "source": [
    "We will not need all the columns, but we will need the following four:"
   ]
  },
  {
   "cell_type": "code",
   "execution_count": 11,
   "metadata": {
    "id": "RXIooATzSzHF"
   },
   "outputs": [],
   "source": [
    "all_lexibank = all_lexibank[['Form', 'Concepticon_Gloss', 'Glottocode', 'Family']]"
   ]
  },
  {
   "cell_type": "markdown",
   "metadata": {
    "id": "V17wBwH5SzHF"
   },
   "source": [
    "Get the subset of the forms from Lexibank that contain the words for SNOW and ICE:"
   ]
  },
  {
   "cell_type": "code",
   "execution_count": 12,
   "metadata": {
    "id": "jUyNbYLbSzHF"
   },
   "outputs": [],
   "source": [
    "subset_si = all_lexibank.query(f'Concepticon_Gloss in {terms_for_snow}')"
   ]
  },
  {
   "cell_type": "markdown",
   "metadata": {
    "id": "ITwWO7bUSzHF"
   },
   "source": [
    "Great, now we have the subset of words"
   ]
  },
  {
   "cell_type": "code",
   "execution_count": 13,
   "metadata": {
    "colab": {
     "base_uri": "https://localhost:8080/",
     "height": 206
    },
    "id": "-1i8RKIYSzHF",
    "outputId": "0631f02e-9519-409d-fc63-916520325449"
   },
   "outputs": [
    {
     "data": {
      "text/html": [
       "<div>\n",
       "<style scoped>\n",
       "    .dataframe tbody tr th:only-of-type {\n",
       "        vertical-align: middle;\n",
       "    }\n",
       "\n",
       "    .dataframe tbody tr th {\n",
       "        vertical-align: top;\n",
       "    }\n",
       "\n",
       "    .dataframe thead th {\n",
       "        text-align: right;\n",
       "    }\n",
       "</style>\n",
       "<table border=\"1\" class=\"dataframe\">\n",
       "  <thead>\n",
       "    <tr style=\"text-align: right;\">\n",
       "      <th></th>\n",
       "      <th>Form</th>\n",
       "      <th>Concepticon_Gloss</th>\n",
       "      <th>Glottocode</th>\n",
       "      <th>Family</th>\n",
       "    </tr>\n",
       "  </thead>\n",
       "  <tbody>\n",
       "    <tr>\n",
       "      <th>119217</th>\n",
       "      <td>jaːq</td>\n",
       "      <td>ICE</td>\n",
       "      <td>kusu1250</td>\n",
       "      <td>NaN</td>\n",
       "    </tr>\n",
       "    <tr>\n",
       "      <th>119218</th>\n",
       "      <td>kak</td>\n",
       "      <td>ICE</td>\n",
       "      <td>khoi1252</td>\n",
       "      <td>Sino-Tibetan</td>\n",
       "    </tr>\n",
       "    <tr>\n",
       "      <th>119219</th>\n",
       "      <td>kʰɛt</td>\n",
       "      <td>ICE</td>\n",
       "      <td>chug1252</td>\n",
       "      <td>Sino-Tibetan</td>\n",
       "    </tr>\n",
       "    <tr>\n",
       "      <th>119220</th>\n",
       "      <td>kʰɛk</td>\n",
       "      <td>ICE</td>\n",
       "      <td>lish1235</td>\n",
       "      <td>Sino-Tibetan</td>\n",
       "    </tr>\n",
       "    <tr>\n",
       "      <th>119221</th>\n",
       "      <td>hau</td>\n",
       "      <td>ICE</td>\n",
       "      <td>hawa1245</td>\n",
       "      <td>Austronesian</td>\n",
       "    </tr>\n",
       "  </tbody>\n",
       "</table>\n",
       "</div>"
      ],
      "text/plain": [
       "        Form Concepticon_Gloss Glottocode        Family\n",
       "119217  jaːq               ICE   kusu1250           NaN\n",
       "119218   kak               ICE   khoi1252  Sino-Tibetan\n",
       "119219  kʰɛt               ICE   chug1252  Sino-Tibetan\n",
       "119220  kʰɛk               ICE   lish1235  Sino-Tibetan\n",
       "119221   hau               ICE   hawa1245  Austronesian"
      ]
     },
     "execution_count": 13,
     "metadata": {},
     "output_type": "execute_result"
    }
   ],
   "source": [
    "subset_si.head(5)"
   ]
  },
  {
   "cell_type": "markdown",
   "metadata": {
    "id": "ZAfnndgkXJJP"
   },
   "source": [
    "Let's look at a language that has many forms:"
   ]
  },
  {
   "cell_type": "code",
   "execution_count": 14,
   "metadata": {
    "colab": {
     "base_uri": "https://localhost:8080/",
     "height": 112
    },
    "id": "muunpNR8XLan",
    "outputId": "d545433b-6bcb-47e0-be37-1d60281fda76"
   },
   "outputs": [
    {
     "data": {
      "text/html": [
       "<div>\n",
       "<style scoped>\n",
       "    .dataframe tbody tr th:only-of-type {\n",
       "        vertical-align: middle;\n",
       "    }\n",
       "\n",
       "    .dataframe tbody tr th {\n",
       "        vertical-align: top;\n",
       "    }\n",
       "\n",
       "    .dataframe thead th {\n",
       "        text-align: right;\n",
       "    }\n",
       "</style>\n",
       "<table border=\"1\" class=\"dataframe\">\n",
       "  <thead>\n",
       "    <tr style=\"text-align: right;\">\n",
       "      <th></th>\n",
       "      <th>Form</th>\n",
       "      <th>Concepticon_Gloss</th>\n",
       "      <th>Glottocode</th>\n",
       "      <th>Family</th>\n",
       "    </tr>\n",
       "  </thead>\n",
       "  <tbody>\n",
       "    <tr>\n",
       "      <th>119295</th>\n",
       "      <td>lot</td>\n",
       "      <td>ICE</td>\n",
       "      <td>russ1263</td>\n",
       "      <td>Indo-European</td>\n",
       "    </tr>\n",
       "    <tr>\n",
       "      <th>207482</th>\n",
       "      <td>snʲeˑk</td>\n",
       "      <td>SNOW</td>\n",
       "      <td>russ1263</td>\n",
       "      <td>Indo-European</td>\n",
       "    </tr>\n",
       "  </tbody>\n",
       "</table>\n",
       "</div>"
      ],
      "text/plain": [
       "          Form Concepticon_Gloss Glottocode         Family\n",
       "119295     lot               ICE   russ1263  Indo-European\n",
       "207482  snʲeˑk              SNOW   russ1263  Indo-European"
      ]
     },
     "execution_count": 14,
     "metadata": {},
     "output_type": "execute_result"
    }
   ],
   "source": [
    "subset_si.query('Glottocode == \"russ1263\"')"
   ]
  },
  {
   "cell_type": "markdown",
   "metadata": {
    "id": "yE521jhRXoDe"
   },
   "source": [
    "And just one form for both:"
   ]
  },
  {
   "cell_type": "code",
   "execution_count": 15,
   "metadata": {
    "colab": {
     "base_uri": "https://localhost:8080/",
     "height": 112
    },
    "id": "BGbb-4gDXajZ",
    "outputId": "e5567494-7f3f-4b5a-8be9-f374e9b417a1"
   },
   "outputs": [
    {
     "data": {
      "text/html": [
       "<div>\n",
       "<style scoped>\n",
       "    .dataframe tbody tr th:only-of-type {\n",
       "        vertical-align: middle;\n",
       "    }\n",
       "\n",
       "    .dataframe tbody tr th {\n",
       "        vertical-align: top;\n",
       "    }\n",
       "\n",
       "    .dataframe thead th {\n",
       "        text-align: right;\n",
       "    }\n",
       "</style>\n",
       "<table border=\"1\" class=\"dataframe\">\n",
       "  <thead>\n",
       "    <tr style=\"text-align: right;\">\n",
       "      <th></th>\n",
       "      <th>Form</th>\n",
       "      <th>Concepticon_Gloss</th>\n",
       "      <th>Glottocode</th>\n",
       "      <th>Family</th>\n",
       "    </tr>\n",
       "  </thead>\n",
       "  <tbody>\n",
       "    <tr>\n",
       "      <th>119219</th>\n",
       "      <td>kʰɛt</td>\n",
       "      <td>ICE</td>\n",
       "      <td>chug1252</td>\n",
       "      <td>Sino-Tibetan</td>\n",
       "    </tr>\n",
       "    <tr>\n",
       "      <th>207379</th>\n",
       "      <td>nam+ʑu</td>\n",
       "      <td>SNOW</td>\n",
       "      <td>chug1252</td>\n",
       "      <td>Sino-Tibetan</td>\n",
       "    </tr>\n",
       "  </tbody>\n",
       "</table>\n",
       "</div>"
      ],
      "text/plain": [
       "          Form Concepticon_Gloss Glottocode        Family\n",
       "119219    kʰɛt               ICE   chug1252  Sino-Tibetan\n",
       "207379  nam+ʑu              SNOW   chug1252  Sino-Tibetan"
      ]
     },
     "execution_count": 15,
     "metadata": {},
     "output_type": "execute_result"
    }
   ],
   "source": [
    "subset_si.query('Glottocode == \"chug1252\"')"
   ]
  },
  {
   "cell_type": "markdown",
   "metadata": {
    "id": "4RalI_ulY1iB"
   },
   "source": [
    "Now you need to extract the number of unique terms (unique Form) for every language in the database. Note that we only need to consider languages that have at least two Concepticon_Gloss entries. Write your code below to fill the list `lang_colex` with the following entries `[glottocode, number_of_unique_forms]`"
   ]
  },
  {
   "cell_type": "code",
   "execution_count": 16,
   "metadata": {
    "id": "0dRKAflpSzHF"
   },
   "outputs": [],
   "source": [
    "lang_colex = []\n",
    "\n",
    "for glottocode in subset_si.Glottocode.unique():\n",
    "    data_lg = subset_si.query(f'Glottocode == \"{glottocode}\"')\n",
    "\n",
    "    if data_lg.Concepticon_Gloss.nunique() >= 2:\n",
    "        lang_colex.append([glottocode, len(data_lg.Form.unique())])\n"
   ]
  },
  {
   "cell_type": "markdown",
   "metadata": {
    "id": "DefbJ8w6Zrdi"
   },
   "source": [
    "Let's look at the results, you should get the following result if everything is correct:\n",
    "\n",
    "```\n",
    "[['kusu1250', 1],\n",
    " ['khoi1252', 2],\n",
    " ['chug1252', 2],\n",
    " ['lish1235', 2],\n",
    " ['hawa1245', 1]]\n",
    "```"
   ]
  },
  {
   "cell_type": "code",
   "execution_count": 17,
   "metadata": {
    "colab": {
     "base_uri": "https://localhost:8080/"
    },
    "id": "CZmG3eqUSzHG",
    "outputId": "4615b85c-0b74-48c2-beb1-f2a48a11694a"
   },
   "outputs": [
    {
     "data": {
      "text/plain": [
       "[['kusu1250', 1],\n",
       " ['khoi1252', 2],\n",
       " ['chug1252', 2],\n",
       " ['lish1235', 2],\n",
       " ['hawa1245', 1]]"
      ]
     },
     "execution_count": 17,
     "metadata": {},
     "output_type": "execute_result"
    }
   ],
   "source": [
    "lang_colex[:5]"
   ]
  },
  {
   "cell_type": "code",
   "execution_count": 18,
   "metadata": {
    "colab": {
     "base_uri": "https://localhost:8080/"
    },
    "id": "Enaqt1aHO4h4",
    "outputId": "87df9e4e-1ee0-4490-a8a7-745a93541c1f"
   },
   "outputs": [
    {
     "data": {
      "text/plain": [
       "269"
      ]
     },
     "execution_count": 18,
     "metadata": {},
     "output_type": "execute_result"
    }
   ],
   "source": [
    "len(lang_colex)"
   ]
  },
  {
   "cell_type": "markdown",
   "metadata": {
    "id": "C4neutZIZ1Kl"
   },
   "source": [
    "Now let's convert it into a dataframe:"
   ]
  },
  {
   "cell_type": "code",
   "execution_count": 19,
   "metadata": {
    "id": "k78CR-6bSzHG"
   },
   "outputs": [],
   "source": [
    "df_colex = pd.DataFrame(lang_colex)\n",
    "df_colex.columns = ['glottocode', 'Number_of_terms']"
   ]
  },
  {
   "cell_type": "markdown",
   "metadata": {
    "id": "QbYEXX1TSzHG"
   },
   "source": [
    "Let's look at the distibution of the number of terms in the df_colex dataframe:"
   ]
  },
  {
   "cell_type": "code",
   "execution_count": 20,
   "metadata": {
    "colab": {
     "base_uri": "https://localhost:8080/",
     "height": 369
    },
    "id": "-U4SkUf-SzHG",
    "outputId": "75cb4493-3cc5-4e83-e7d1-0a47007977e0"
   },
   "outputs": [
    {
     "data": {
      "image/png": "[encoded data removed]",
      "text/plain": [
       "<Figure size 800x400 with 1 Axes>"
      ]
     },
     "metadata": {},
     "output_type": "display_data"
    }
   ],
   "source": [
    "plt.figure(figsize=(8, 4))\n",
    "plt.hist(df_colex['Number_of_terms'],\n",
    "         bins=range(1, 7),\n",
    "         align='left')\n",
    "sns.despine()\n",
    "plt.show()"
   ]
  },
  {
   "cell_type": "markdown",
   "metadata": {
    "id": "66DNSjrRSzHG"
   },
   "source": [
    "Let's look at the languages that have more than two terms. Is there something interesting that you can notice?"
   ]
  },
  {
   "cell_type": "code",
   "execution_count": 21,
   "metadata": {
    "colab": {
     "base_uri": "https://localhost:8080/",
     "height": 520
    },
    "id": "onLTbgjNSzHH",
    "outputId": "0268078d-2778-4569-c085-d1fb8b458b26"
   },
   "outputs": [
    {
     "data": {
      "text/html": [
       "<div>\n",
       "<style scoped>\n",
       "    .dataframe tbody tr th:only-of-type {\n",
       "        vertical-align: middle;\n",
       "    }\n",
       "\n",
       "    .dataframe tbody tr th {\n",
       "        vertical-align: top;\n",
       "    }\n",
       "\n",
       "    .dataframe thead th {\n",
       "        text-align: right;\n",
       "    }\n",
       "</style>\n",
       "<table border=\"1\" class=\"dataframe\">\n",
       "  <thead>\n",
       "    <tr style=\"text-align: right;\">\n",
       "      <th></th>\n",
       "      <th>glottocode</th>\n",
       "      <th>Number_of_terms</th>\n",
       "    </tr>\n",
       "  </thead>\n",
       "  <tbody>\n",
       "    <tr>\n",
       "      <th>33</th>\n",
       "      <td>embe1260</td>\n",
       "      <td>3</td>\n",
       "    </tr>\n",
       "    <tr>\n",
       "      <th>37</th>\n",
       "      <td>embe1261</td>\n",
       "      <td>3</td>\n",
       "    </tr>\n",
       "    <tr>\n",
       "      <th>38</th>\n",
       "      <td>embe1262</td>\n",
       "      <td>4</td>\n",
       "    </tr>\n",
       "    <tr>\n",
       "      <th>39</th>\n",
       "      <td>epen1239</td>\n",
       "      <td>3</td>\n",
       "    </tr>\n",
       "    <tr>\n",
       "      <th>57</th>\n",
       "      <td>stan1289</td>\n",
       "      <td>3</td>\n",
       "    </tr>\n",
       "    <tr>\n",
       "      <th>78</th>\n",
       "      <td>drun1238</td>\n",
       "      <td>3</td>\n",
       "    </tr>\n",
       "    <tr>\n",
       "      <th>92</th>\n",
       "      <td>nucl1302</td>\n",
       "      <td>3</td>\n",
       "    </tr>\n",
       "    <tr>\n",
       "      <th>109</th>\n",
       "      <td>hmon1333</td>\n",
       "      <td>3</td>\n",
       "    </tr>\n",
       "    <tr>\n",
       "      <th>141</th>\n",
       "      <td>sout2674</td>\n",
       "      <td>3</td>\n",
       "    </tr>\n",
       "    <tr>\n",
       "      <th>158</th>\n",
       "      <td>nene1249</td>\n",
       "      <td>3</td>\n",
       "    </tr>\n",
       "    <tr>\n",
       "      <th>163</th>\n",
       "      <td>nort2646</td>\n",
       "      <td>3</td>\n",
       "    </tr>\n",
       "    <tr>\n",
       "      <th>179</th>\n",
       "      <td>wels1247</td>\n",
       "      <td>3</td>\n",
       "    </tr>\n",
       "    <tr>\n",
       "      <th>180</th>\n",
       "      <td>roma1327</td>\n",
       "      <td>5</td>\n",
       "    </tr>\n",
       "    <tr>\n",
       "      <th>218</th>\n",
       "      <td>utsa1239</td>\n",
       "      <td>3</td>\n",
       "    </tr>\n",
       "    <tr>\n",
       "      <th>262</th>\n",
       "      <td>sese1246</td>\n",
       "      <td>3</td>\n",
       "    </tr>\n",
       "  </tbody>\n",
       "</table>\n",
       "</div>"
      ],
      "text/plain": [
       "    glottocode  Number_of_terms\n",
       "33    embe1260                3\n",
       "37    embe1261                3\n",
       "38    embe1262                4\n",
       "39    epen1239                3\n",
       "57    stan1289                3\n",
       "78    drun1238                3\n",
       "92    nucl1302                3\n",
       "109   hmon1333                3\n",
       "141   sout2674                3\n",
       "158   nene1249                3\n",
       "163   nort2646                3\n",
       "179   wels1247                3\n",
       "180   roma1327                5\n",
       "218   utsa1239                3\n",
       "262   sese1246                3"
      ]
     },
     "execution_count": 21,
     "metadata": {},
     "output_type": "execute_result"
    }
   ],
   "source": [
    "df_colex.query('Number_of_terms > 2')"
   ]
  },
  {
   "cell_type": "markdown",
   "metadata": {
    "id": "4IJ9934ASzHH"
   },
   "source": [
    "Normally, the language with the highest number of terms should be Romanian, so let's look a the terms in Romanian -- does the data look good?"
   ]
  },
  {
   "cell_type": "code",
   "execution_count": 22,
   "metadata": {
    "colab": {
     "base_uri": "https://localhost:8080/",
     "height": 206
    },
    "id": "THxlE86ZSzHH",
    "outputId": "0f1a0207-2898-43a8-8dbe-d01427e09b73"
   },
   "outputs": [
    {
     "data": {
      "text/html": [
       "<div>\n",
       "<style scoped>\n",
       "    .dataframe tbody tr th:only-of-type {\n",
       "        vertical-align: middle;\n",
       "    }\n",
       "\n",
       "    .dataframe tbody tr th {\n",
       "        vertical-align: top;\n",
       "    }\n",
       "\n",
       "    .dataframe thead th {\n",
       "        text-align: right;\n",
       "    }\n",
       "</style>\n",
       "<table border=\"1\" class=\"dataframe\">\n",
       "  <thead>\n",
       "    <tr style=\"text-align: right;\">\n",
       "      <th></th>\n",
       "      <th>Form</th>\n",
       "      <th>Concepticon_Gloss</th>\n",
       "      <th>Glottocode</th>\n",
       "      <th>Family</th>\n",
       "    </tr>\n",
       "  </thead>\n",
       "  <tbody>\n",
       "    <tr>\n",
       "      <th>119431</th>\n",
       "      <td>gheaţă</td>\n",
       "      <td>ICE</td>\n",
       "      <td>roma1327</td>\n",
       "      <td>Indo-European</td>\n",
       "    </tr>\n",
       "    <tr>\n",
       "      <th>207642</th>\n",
       "      <td>zăpadă</td>\n",
       "      <td>SNOW</td>\n",
       "      <td>roma1327</td>\n",
       "      <td>Indo-European</td>\n",
       "    </tr>\n",
       "    <tr>\n",
       "      <th>207643</th>\n",
       "      <td>omăt</td>\n",
       "      <td>SNOW</td>\n",
       "      <td>roma1327</td>\n",
       "      <td>Indo-European</td>\n",
       "    </tr>\n",
       "    <tr>\n",
       "      <th>207644</th>\n",
       "      <td>nea</td>\n",
       "      <td>SNOW</td>\n",
       "      <td>roma1327</td>\n",
       "      <td>Indo-European</td>\n",
       "    </tr>\n",
       "    <tr>\n",
       "      <th>207645</th>\n",
       "      <td>ninsoare</td>\n",
       "      <td>SNOW</td>\n",
       "      <td>roma1327</td>\n",
       "      <td>Indo-European</td>\n",
       "    </tr>\n",
       "  </tbody>\n",
       "</table>\n",
       "</div>"
      ],
      "text/plain": [
       "            Form Concepticon_Gloss Glottocode         Family\n",
       "119431    gheaţă               ICE   roma1327  Indo-European\n",
       "207642    zăpadă              SNOW   roma1327  Indo-European\n",
       "207643      omăt              SNOW   roma1327  Indo-European\n",
       "207644       nea              SNOW   roma1327  Indo-European\n",
       "207645  ninsoare              SNOW   roma1327  Indo-European"
      ]
     },
     "execution_count": 22,
     "metadata": {},
     "output_type": "execute_result"
    }
   ],
   "source": [
    "subset_si.query('Glottocode == \"roma1327\"')"
   ]
  },
  {
   "cell_type": "markdown",
   "metadata": {
    "id": "VG_gQlu7Z9c_"
   },
   "source": [
    "Finally, we need to add lattitudes and longitudes from glottolog, Let's load the data first:"
   ]
  },
  {
   "cell_type": "code",
   "execution_count": 23,
   "metadata": {
    "id": "0yCl2eK5SzHH"
   },
   "outputs": [],
   "source": [
    "glottolog = pd.read_csv('https://raw.githubusercontent.com/alexeykosh/intro-to-ling/refs/heads/main/S8/glottolog.csv')"
   ]
  },
  {
   "cell_type": "code",
   "execution_count": 24,
   "metadata": {
    "colab": {
     "base_uri": "https://localhost:8080/",
     "height": 206
    },
    "id": "N01kqzHxQKl9",
    "outputId": "0e963266-c91e-434b-b0ff-407ebcab930a"
   },
   "outputs": [
    {
     "data": {
      "text/html": [
       "<div>\n",
       "<style scoped>\n",
       "    .dataframe tbody tr th:only-of-type {\n",
       "        vertical-align: middle;\n",
       "    }\n",
       "\n",
       "    .dataframe tbody tr th {\n",
       "        vertical-align: top;\n",
       "    }\n",
       "\n",
       "    .dataframe thead th {\n",
       "        text-align: right;\n",
       "    }\n",
       "</style>\n",
       "<table border=\"1\" class=\"dataframe\">\n",
       "  <thead>\n",
       "    <tr style=\"text-align: right;\">\n",
       "      <th></th>\n",
       "      <th>glottocode</th>\n",
       "      <th>name</th>\n",
       "      <th>isocodes</th>\n",
       "      <th>level</th>\n",
       "      <th>macroarea</th>\n",
       "      <th>latitude</th>\n",
       "      <th>longitude</th>\n",
       "    </tr>\n",
       "  </thead>\n",
       "  <tbody>\n",
       "    <tr>\n",
       "      <th>0</th>\n",
       "      <td>3adt1234</td>\n",
       "      <td>3Ad-Tekles</td>\n",
       "      <td>NaN</td>\n",
       "      <td>dialect</td>\n",
       "      <td>Africa</td>\n",
       "      <td>NaN</td>\n",
       "      <td>NaN</td>\n",
       "    </tr>\n",
       "    <tr>\n",
       "      <th>1</th>\n",
       "      <td>aala1237</td>\n",
       "      <td>Aalawa</td>\n",
       "      <td>NaN</td>\n",
       "      <td>dialect</td>\n",
       "      <td>Papunesia</td>\n",
       "      <td>NaN</td>\n",
       "      <td>NaN</td>\n",
       "    </tr>\n",
       "    <tr>\n",
       "      <th>2</th>\n",
       "      <td>aant1238</td>\n",
       "      <td>Aantantara</td>\n",
       "      <td>NaN</td>\n",
       "      <td>dialect</td>\n",
       "      <td>Papunesia</td>\n",
       "      <td>NaN</td>\n",
       "      <td>NaN</td>\n",
       "    </tr>\n",
       "    <tr>\n",
       "      <th>3</th>\n",
       "      <td>aari1239</td>\n",
       "      <td>Aari</td>\n",
       "      <td>aiw</td>\n",
       "      <td>language</td>\n",
       "      <td>Africa</td>\n",
       "      <td>5.95034</td>\n",
       "      <td>36.5721</td>\n",
       "    </tr>\n",
       "    <tr>\n",
       "      <th>4</th>\n",
       "      <td>aari1240</td>\n",
       "      <td>Aariya</td>\n",
       "      <td>aay</td>\n",
       "      <td>language</td>\n",
       "      <td>Eurasia</td>\n",
       "      <td>NaN</td>\n",
       "      <td>NaN</td>\n",
       "    </tr>\n",
       "  </tbody>\n",
       "</table>\n",
       "</div>"
      ],
      "text/plain": [
       "  glottocode        name isocodes     level  macroarea  latitude  longitude\n",
       "0   3adt1234  3Ad-Tekles      NaN   dialect     Africa       NaN        NaN\n",
       "1   aala1237      Aalawa      NaN   dialect  Papunesia       NaN        NaN\n",
       "2   aant1238  Aantantara      NaN   dialect  Papunesia       NaN        NaN\n",
       "3   aari1239        Aari      aiw  language     Africa   5.95034    36.5721\n",
       "4   aari1240      Aariya      aay  language    Eurasia       NaN        NaN"
      ]
     },
     "execution_count": 24,
     "metadata": {},
     "output_type": "execute_result"
    }
   ],
   "source": [
    "glottolog.head(5)"
   ]
  },
  {
   "cell_type": "markdown",
   "metadata": {
    "id": "y-UanvHNaEu-"
   },
   "source": [
    "Now merge the two dataframes into a new dataframe by `glottocode` column (use left merge)."
   ]
  },
  {
   "cell_type": "code",
   "execution_count": 25,
   "metadata": {
    "id": "057qLT3GSzHH"
   },
   "outputs": [],
   "source": [
    "df_merged = pd.merge(df_colex, glottolog, on='glottocode', how='left')"
   ]
  },
  {
   "cell_type": "code",
   "execution_count": 26,
   "metadata": {
    "colab": {
     "base_uri": "https://localhost:8080/"
    },
    "id": "5FNpl3mkRRWF",
    "outputId": "1ad7e156-7977-4452-e35b-9823daafbe8d"
   },
   "outputs": [
    {
     "data": {
      "text/plain": [
       "(269, 8)"
      ]
     },
     "execution_count": 26,
     "metadata": {},
     "output_type": "execute_result"
    }
   ],
   "source": [
    "df_merged.shape"
   ]
  },
  {
   "cell_type": "code",
   "execution_count": 27,
   "metadata": {
    "id": "nGGrrGT5SzHH"
   },
   "outputs": [],
   "source": [
    "df_merged.dropna(subset=['latitude', 'longitude'],\n",
    "                 inplace=True)"
   ]
  },
  {
   "cell_type": "code",
   "execution_count": 28,
   "metadata": {
    "colab": {
     "base_uri": "https://localhost:8080/"
    },
    "id": "4_eM3v_-Rash",
    "outputId": "c410fb0c-352a-4692-d787-88eb32b48fc9"
   },
   "outputs": [
    {
     "data": {
      "text/plain": [
       "(245, 8)"
      ]
     },
     "execution_count": 28,
     "metadata": {},
     "output_type": "execute_result"
    }
   ],
   "source": [
    "df_merged.shape"
   ]
  },
  {
   "cell_type": "code",
   "execution_count": 29,
   "metadata": {
    "colab": {
     "base_uri": "https://localhost:8080/",
     "height": 206
    },
    "id": "9XSvQVhuSzHH",
    "outputId": "8afb5179-8a77-4b53-8b73-45f52f9c55bc"
   },
   "outputs": [
    {
     "data": {
      "text/html": [
       "<div>\n",
       "<style scoped>\n",
       "    .dataframe tbody tr th:only-of-type {\n",
       "        vertical-align: middle;\n",
       "    }\n",
       "\n",
       "    .dataframe tbody tr th {\n",
       "        vertical-align: top;\n",
       "    }\n",
       "\n",
       "    .dataframe thead th {\n",
       "        text-align: right;\n",
       "    }\n",
       "</style>\n",
       "<table border=\"1\" class=\"dataframe\">\n",
       "  <thead>\n",
       "    <tr style=\"text-align: right;\">\n",
       "      <th></th>\n",
       "      <th>glottocode</th>\n",
       "      <th>Number_of_terms</th>\n",
       "      <th>name</th>\n",
       "      <th>isocodes</th>\n",
       "      <th>level</th>\n",
       "      <th>macroarea</th>\n",
       "      <th>latitude</th>\n",
       "      <th>longitude</th>\n",
       "    </tr>\n",
       "  </thead>\n",
       "  <tbody>\n",
       "    <tr>\n",
       "      <th>0</th>\n",
       "      <td>kusu1250</td>\n",
       "      <td>1</td>\n",
       "      <td>Kusunda</td>\n",
       "      <td>kgg</td>\n",
       "      <td>language</td>\n",
       "      <td>Eurasia</td>\n",
       "      <td>28.330000</td>\n",
       "      <td>82.600000</td>\n",
       "    </tr>\n",
       "    <tr>\n",
       "      <th>1</th>\n",
       "      <td>khoi1252</td>\n",
       "      <td>2</td>\n",
       "      <td>Khoitam</td>\n",
       "      <td>NaN</td>\n",
       "      <td>dialect</td>\n",
       "      <td>Eurasia</td>\n",
       "      <td>27.329389</td>\n",
       "      <td>92.436011</td>\n",
       "    </tr>\n",
       "    <tr>\n",
       "      <th>2</th>\n",
       "      <td>chug1252</td>\n",
       "      <td>2</td>\n",
       "      <td>Duhumbi</td>\n",
       "      <td>cvg</td>\n",
       "      <td>language</td>\n",
       "      <td>Eurasia</td>\n",
       "      <td>27.417771</td>\n",
       "      <td>92.225589</td>\n",
       "    </tr>\n",
       "    <tr>\n",
       "      <th>3</th>\n",
       "      <td>lish1235</td>\n",
       "      <td>2</td>\n",
       "      <td>Khispi</td>\n",
       "      <td>lsh</td>\n",
       "      <td>language</td>\n",
       "      <td>Eurasia</td>\n",
       "      <td>27.368899</td>\n",
       "      <td>92.239467</td>\n",
       "    </tr>\n",
       "    <tr>\n",
       "      <th>4</th>\n",
       "      <td>hawa1245</td>\n",
       "      <td>1</td>\n",
       "      <td>Hawaiian</td>\n",
       "      <td>haw</td>\n",
       "      <td>language</td>\n",
       "      <td>Papunesia</td>\n",
       "      <td>19.629700</td>\n",
       "      <td>-155.430000</td>\n",
       "    </tr>\n",
       "  </tbody>\n",
       "</table>\n",
       "</div>"
      ],
      "text/plain": [
       "  glottocode  Number_of_terms      name isocodes     level  macroarea  \\\n",
       "0   kusu1250                1   Kusunda      kgg  language    Eurasia   \n",
       "1   khoi1252                2   Khoitam      NaN   dialect    Eurasia   \n",
       "2   chug1252                2   Duhumbi      cvg  language    Eurasia   \n",
       "3   lish1235                2    Khispi      lsh  language    Eurasia   \n",
       "4   hawa1245                1  Hawaiian      haw  language  Papunesia   \n",
       "\n",
       "    latitude   longitude  \n",
       "0  28.330000   82.600000  \n",
       "1  27.329389   92.436011  \n",
       "2  27.417771   92.225589  \n",
       "3  27.368899   92.239467  \n",
       "4  19.629700 -155.430000  "
      ]
     },
     "execution_count": 29,
     "metadata": {},
     "output_type": "execute_result"
    }
   ],
   "source": [
    "df_merged.head(5)"
   ]
  },
  {
   "cell_type": "markdown",
   "metadata": {
    "id": "YBPvqa2TSzHH"
   },
   "source": [
    "### 2. Getting overal temperatures in each language location\n",
    "\n",
    "\n",
    "We have lattitudes and longitudes for each language in our subset, so we can get average yearly temperatures for their locations. To do this, we need to extract data from NASA on daily temperatures in a certain period, and compute the averages. The code below does that for you. Downloading this data will take a bit of time, so you should not run it. The pre-downloaded data is accesible below."
   ]
  },
  {
   "cell_type": "code",
   "execution_count": 30,
   "metadata": {
    "id": "pePZl0NRSzHH"
   },
   "outputs": [],
   "source": [
    "def get_overall_avg_temp(lat, lon, start_year, end_year):\n",
    "    \"\"\"\n",
    "    Fetches overall average temperature for a given latitude and longitude using the NASA POWER API.\n",
    "    Returns a DataFrame with the overall average for the range.\n",
    "    \"\"\"\n",
    "    url = \"https://power.larc.nasa.gov/api/temporal/daily/point\"\n",
    "    params = {\n",
    "        \"parameters\": \"T2M\",\n",
    "        \"community\": \"AG\",\n",
    "        \"longitude\": lon,\n",
    "        \"latitude\": lat,\n",
    "        \"start\": f\"{start_year}0101\",\n",
    "        \"end\": f\"{end_year}1231\",\n",
    "        \"format\": \"JSON\",\n",
    "    }\n",
    "    response = requests.get(url, params=params)\n",
    "    if response.status_code != 200:\n",
    "        print(f\"Failed to fetch data for {lat}, {lon}: Status {response.status_code}\")\n",
    "        return None\n",
    "\n",
    "    # Parse daily temperatures\n",
    "    data = response.json()['properties']['parameter']['T2M']\n",
    "    df_temp = pd.DataFrame(list(data.items()), columns=[\"Date\", \"Temperature\"])\n",
    "    df_temp[\"Date\"] = pd.to_datetime(df_temp[\"Date\"])\n",
    "    df_temp.set_index(\"Date\", inplace=True)\n",
    "\n",
    "    # Calculate overall average temperature for the specified range\n",
    "    overall_avg = df_temp[\"Temperature\"].mean()\n",
    "    return pd.DataFrame({\n",
    "        \"latitude\": [lat],\n",
    "        \"longitude\": [lon],\n",
    "        \"overall_avg_temp\": [overall_avg]\n",
    "    })\n",
    "\n",
    "# Function to apply to DataFrame\n",
    "def apply_overall_avg_temp(df, start_year, end_year):\n",
    "    \"\"\"\n",
    "    Applies `get_overall_avg_temp` to each row in a DataFrame with 'latitude' and 'longitude' columns.\n",
    "    Returns a DataFrame with overall average temperatures for each location.\n",
    "    \"\"\"\n",
    "    results = []\n",
    "    for _, row in tqdm(df.iterrows()):\n",
    "        overall_data = get_overall_avg_temp(row['latitude'], row['longitude'], start_year, end_year)\n",
    "        if overall_data is not None:\n",
    "            results.append(overall_data)\n",
    "    return pd.concat(results, ignore_index=True)\n",
    "\n",
    "# start_year, end_year = 2020, 2023\n",
    "# df_results = apply_overall_avg_temp(df_merged, start_year, end_year)\n",
    "\n",
    "# df_results.to_csv('temperature_data.csv')"
   ]
  },
  {
   "cell_type": "markdown",
   "metadata": {
    "id": "7CNq6FleaTQH"
   },
   "source": [
    "Let's load the data:"
   ]
  },
  {
   "cell_type": "code",
   "execution_count": 31,
   "metadata": {
    "id": "3ApSaR45SzHI"
   },
   "outputs": [],
   "source": [
    "df_results = pd.read_csv('https://github.com/alexeykosh/intro-to-ling/raw/refs/heads/main/S8/temperature_data.csv', index_col=0)"
   ]
  },
  {
   "cell_type": "code",
   "execution_count": 32,
   "metadata": {
    "colab": {
     "base_uri": "https://localhost:8080/",
     "height": 206
    },
    "id": "PwBkJA9LSqYQ",
    "outputId": "dd4f0cf6-8e29-4885-a638-ad2ad8668455"
   },
   "outputs": [
    {
     "data": {
      "text/html": [
       "<div>\n",
       "<style scoped>\n",
       "    .dataframe tbody tr th:only-of-type {\n",
       "        vertical-align: middle;\n",
       "    }\n",
       "\n",
       "    .dataframe tbody tr th {\n",
       "        vertical-align: top;\n",
       "    }\n",
       "\n",
       "    .dataframe thead th {\n",
       "        text-align: right;\n",
       "    }\n",
       "</style>\n",
       "<table border=\"1\" class=\"dataframe\">\n",
       "  <thead>\n",
       "    <tr style=\"text-align: right;\">\n",
       "      <th></th>\n",
       "      <th>latitude</th>\n",
       "      <th>longitude</th>\n",
       "      <th>overall_avg_temp</th>\n",
       "    </tr>\n",
       "  </thead>\n",
       "  <tbody>\n",
       "    <tr>\n",
       "      <th>0</th>\n",
       "      <td>28.330000</td>\n",
       "      <td>82.600000</td>\n",
       "      <td>14.811075</td>\n",
       "    </tr>\n",
       "    <tr>\n",
       "      <th>1</th>\n",
       "      <td>27.329389</td>\n",
       "      <td>92.436011</td>\n",
       "      <td>9.641745</td>\n",
       "    </tr>\n",
       "    <tr>\n",
       "      <th>2</th>\n",
       "      <td>27.417771</td>\n",
       "      <td>92.225589</td>\n",
       "      <td>9.641745</td>\n",
       "    </tr>\n",
       "    <tr>\n",
       "      <th>3</th>\n",
       "      <td>27.368899</td>\n",
       "      <td>92.239467</td>\n",
       "      <td>9.641745</td>\n",
       "    </tr>\n",
       "    <tr>\n",
       "      <th>4</th>\n",
       "      <td>19.629700</td>\n",
       "      <td>-155.430000</td>\n",
       "      <td>18.437775</td>\n",
       "    </tr>\n",
       "  </tbody>\n",
       "</table>\n",
       "</div>"
      ],
      "text/plain": [
       "    latitude   longitude  overall_avg_temp\n",
       "0  28.330000   82.600000         14.811075\n",
       "1  27.329389   92.436011          9.641745\n",
       "2  27.417771   92.225589          9.641745\n",
       "3  27.368899   92.239467          9.641745\n",
       "4  19.629700 -155.430000         18.437775"
      ]
     },
     "execution_count": 32,
     "metadata": {},
     "output_type": "execute_result"
    }
   ],
   "source": [
    "df_results.head()"
   ]
  },
  {
   "cell_type": "code",
   "execution_count": 33,
   "metadata": {
    "colab": {
     "base_uri": "https://localhost:8080/"
    },
    "id": "rWPxa02ER6nL",
    "outputId": "86a35ad7-6106-4fde-f621-2466d5d4db33"
   },
   "outputs": [
    {
     "data": {
      "text/plain": [
       "28.77438056125941"
      ]
     },
     "execution_count": 33,
     "metadata": {},
     "output_type": "execute_result"
    }
   ],
   "source": [
    "df_results['overall_avg_temp'].max()"
   ]
  },
  {
   "cell_type": "markdown",
   "metadata": {
    "id": "Z1P6xQPzaVwx"
   },
   "source": [
    "Combine it with our df with lattitudes and longitudes:"
   ]
  },
  {
   "cell_type": "code",
   "execution_count": 34,
   "metadata": {
    "id": "8FGjiInSSzHI"
   },
   "outputs": [],
   "source": [
    "df_merged_f = pd.merge(df_merged,\n",
    "                       df_results,\n",
    "                       on=['latitude', 'longitude'],\n",
    "                       how='right')\n",
    "df_merged_f['Temperature'] = df_merged_f['overall_avg_temp'].astype(float)\n",
    "# We are adding a column for same or different terms for ICE and SNOW:\n",
    "df_merged_f['Number_of_terms_bin'] = np.where(df_merged_f['Number_of_terms'] == 1, 'same',\n",
    "                                              np.where(df_merged_f['Number_of_terms'] >= 2,\n",
    "                                                       'different', 'different'))"
   ]
  },
  {
   "cell_type": "markdown",
   "metadata": {
    "id": "SkMeBZM9aadu"
   },
   "source": [
    "Let's look at the data:"
   ]
  },
  {
   "cell_type": "code",
   "execution_count": 35,
   "metadata": {
    "colab": {
     "base_uri": "https://localhost:8080/",
     "height": 226
    },
    "id": "ZI3IM2z4SzHI",
    "outputId": "2da3fb86-d36e-4a5c-af10-9356e3828dce"
   },
   "outputs": [
    {
     "data": {
      "text/html": [
       "<div>\n",
       "<style scoped>\n",
       "    .dataframe tbody tr th:only-of-type {\n",
       "        vertical-align: middle;\n",
       "    }\n",
       "\n",
       "    .dataframe tbody tr th {\n",
       "        vertical-align: top;\n",
       "    }\n",
       "\n",
       "    .dataframe thead th {\n",
       "        text-align: right;\n",
       "    }\n",
       "</style>\n",
       "<table border=\"1\" class=\"dataframe\">\n",
       "  <thead>\n",
       "    <tr style=\"text-align: right;\">\n",
       "      <th></th>\n",
       "      <th>glottocode</th>\n",
       "      <th>Number_of_terms</th>\n",
       "      <th>name</th>\n",
       "      <th>isocodes</th>\n",
       "      <th>level</th>\n",
       "      <th>macroarea</th>\n",
       "      <th>latitude</th>\n",
       "      <th>longitude</th>\n",
       "      <th>overall_avg_temp</th>\n",
       "      <th>Temperature</th>\n",
       "      <th>Number_of_terms_bin</th>\n",
       "    </tr>\n",
       "  </thead>\n",
       "  <tbody>\n",
       "    <tr>\n",
       "      <th>0</th>\n",
       "      <td>kusu1250</td>\n",
       "      <td>1.0</td>\n",
       "      <td>Kusunda</td>\n",
       "      <td>kgg</td>\n",
       "      <td>language</td>\n",
       "      <td>Eurasia</td>\n",
       "      <td>28.330000</td>\n",
       "      <td>82.600000</td>\n",
       "      <td>14.811075</td>\n",
       "      <td>14.811075</td>\n",
       "      <td>same</td>\n",
       "    </tr>\n",
       "    <tr>\n",
       "      <th>1</th>\n",
       "      <td>khoi1252</td>\n",
       "      <td>2.0</td>\n",
       "      <td>Khoitam</td>\n",
       "      <td>NaN</td>\n",
       "      <td>dialect</td>\n",
       "      <td>Eurasia</td>\n",
       "      <td>27.329389</td>\n",
       "      <td>92.436011</td>\n",
       "      <td>9.641745</td>\n",
       "      <td>9.641745</td>\n",
       "      <td>different</td>\n",
       "    </tr>\n",
       "    <tr>\n",
       "      <th>2</th>\n",
       "      <td>chug1252</td>\n",
       "      <td>2.0</td>\n",
       "      <td>Duhumbi</td>\n",
       "      <td>cvg</td>\n",
       "      <td>language</td>\n",
       "      <td>Eurasia</td>\n",
       "      <td>27.417771</td>\n",
       "      <td>92.225589</td>\n",
       "      <td>9.641745</td>\n",
       "      <td>9.641745</td>\n",
       "      <td>different</td>\n",
       "    </tr>\n",
       "    <tr>\n",
       "      <th>3</th>\n",
       "      <td>lish1235</td>\n",
       "      <td>2.0</td>\n",
       "      <td>Khispi</td>\n",
       "      <td>lsh</td>\n",
       "      <td>language</td>\n",
       "      <td>Eurasia</td>\n",
       "      <td>27.368899</td>\n",
       "      <td>92.239467</td>\n",
       "      <td>9.641745</td>\n",
       "      <td>9.641745</td>\n",
       "      <td>different</td>\n",
       "    </tr>\n",
       "    <tr>\n",
       "      <th>4</th>\n",
       "      <td>hawa1245</td>\n",
       "      <td>1.0</td>\n",
       "      <td>Hawaiian</td>\n",
       "      <td>haw</td>\n",
       "      <td>language</td>\n",
       "      <td>Papunesia</td>\n",
       "      <td>19.629700</td>\n",
       "      <td>-155.430000</td>\n",
       "      <td>18.437775</td>\n",
       "      <td>18.437775</td>\n",
       "      <td>same</td>\n",
       "    </tr>\n",
       "  </tbody>\n",
       "</table>\n",
       "</div>"
      ],
      "text/plain": [
       "  glottocode  Number_of_terms      name isocodes     level  macroarea  \\\n",
       "0   kusu1250              1.0   Kusunda      kgg  language    Eurasia   \n",
       "1   khoi1252              2.0   Khoitam      NaN   dialect    Eurasia   \n",
       "2   chug1252              2.0   Duhumbi      cvg  language    Eurasia   \n",
       "3   lish1235              2.0    Khispi      lsh  language    Eurasia   \n",
       "4   hawa1245              1.0  Hawaiian      haw  language  Papunesia   \n",
       "\n",
       "    latitude   longitude  overall_avg_temp  Temperature Number_of_terms_bin  \n",
       "0  28.330000   82.600000         14.811075    14.811075                same  \n",
       "1  27.329389   92.436011          9.641745     9.641745           different  \n",
       "2  27.417771   92.225589          9.641745     9.641745           different  \n",
       "3  27.368899   92.239467          9.641745     9.641745           different  \n",
       "4  19.629700 -155.430000         18.437775    18.437775                same  "
      ]
     },
     "execution_count": 35,
     "metadata": {},
     "output_type": "execute_result"
    }
   ],
   "source": [
    "df_merged_f.head()"
   ]
  },
  {
   "cell_type": "markdown",
   "metadata": {
    "id": "O-p42MeZagIW"
   },
   "source": [
    "Now you need to reproduce the figure from the paper, namely two boxplots for the distribution in average temperatures in the area where the languages with the same or different forms for ICE and SNOW are spoken.\n",
    "\n",
    "Hint: use [sns.boxplot](https://seaborn.pydata.org/generated/seaborn.boxplot.html)"
   ]
  },
  {
   "cell_type": "code",
   "execution_count": 38,
   "metadata": {
    "id": "sJPAijedSzHI"
   },
   "outputs": [
    {
     "data": {
      "image/png": "[encoded data removed]",
      "text/plain": [
       "<Figure size 800x400 with 1 Axes>"
      ]
     },
     "metadata": {},
     "output_type": "display_data"
    }
   ],
   "source": [
    "plt.figure(figsize=(8, 4))\n",
    "plt.axvline(x=0, \n",
    "            color='red',\n",
    "            linestyle='--',\n",
    "            linewidth=3)\n",
    "sns.boxplot(data=df_merged_f, x='Temperature', \n",
    "            y='Number_of_terms_bin', fill=False)\n",
    "plt.xlabel('Average temperature')\n",
    "plt.ylabel('Terms for snow and ice')\n",
    "plt.show()"
   ]
  },
  {
   "cell_type": "markdown",
   "metadata": {
    "id": "wnnxZCfTa6N6"
   },
   "source": [
    "Perform the t-test using ``stats.ttest_ind``:"
   ]
  },
  {
   "cell_type": "code",
   "execution_count": 39,
   "metadata": {
    "id": "SwN2-FJ5SzHI"
   },
   "outputs": [
    {
     "data": {
      "text/plain": [
       "TtestResult(statistic=7.866057824961866, pvalue=2.6977910853495914e-08, df=25.60690803131017)"
      ]
     },
     "execution_count": 39,
     "metadata": {},
     "output_type": "execute_result"
    }
   ],
   "source": [
    "same_temp = df_merged_f.query('Number_of_terms_bin == \"same\"')['overall_avg_temp'].values\n",
    "diff_temp = df_merged_f.query('Number_of_terms_bin == \"different\"')['overall_avg_temp'].values\n",
    "\n",
    "stats.ttest_ind(same_temp, diff_temp, equal_var=False)"
   ]
  },
  {
   "cell_type": "markdown",
   "metadata": {},
   "source": [
    "Languages where there is only one term for SNOW and ICE are spoken in the areas which are on average 7.5 degrees warmer! "
   ]
  },
  {
   "cell_type": "markdown",
   "metadata": {
    "id": "vfWPPTndbKSb"
   },
   "source": [
    "Finally, you need to recreate a map from the paper, showing the coordinates of languages with same or different terms for snow:"
   ]
  },
  {
   "cell_type": "code",
   "execution_count": 49,
   "metadata": {
    "colab": {
     "base_uri": "https://localhost:8080/",
     "height": 423
    },
    "id": "BWMFOhkpbSr0",
    "outputId": "3b50b56e-675f-4e9a-a5d7-5740ad37d711"
   },
   "outputs": [
    {
     "data": {
      "image/png": "[encoded data removed]",
      "text/plain": [
       "<Figure size 1000x400 with 2 Axes>"
      ]
     },
     "metadata": {},
     "output_type": "display_data"
    }
   ],
   "source": [
    "\n",
    "# Prepare data\n",
    "x_same = df_merged_f.query('Number_of_terms_bin == \"same\"')['longitude']\n",
    "y_same = df_merged_f.query('Number_of_terms_bin == \"same\"')['latitude']\n",
    "\n",
    "x_different = df_merged_f.query('Number_of_terms_bin == \"different\"')['longitude']\n",
    "y_different = df_merged_f.query('Number_of_terms_bin == \"different\"')['latitude']\n",
    "\n",
    "# Create subplots\n",
    "fig, axes = plt.subplots(1, 2, figsize=(10, 4))\n",
    "\n",
    "# First subplot for \"same term\"\n",
    "ax = axes[0]\n",
    "m1 = Basemap(projection='cyl', resolution='c', ax=ax)\n",
    "m1.drawcoastlines(color='black')\n",
    "m1.fillcontinents(color='white', lake_color='white')\n",
    "m1.plot(x_same, y_same, 'ro', markersize=3, alpha=1)\n",
    "ax.set_title('Same Term for SNOW and ICE', fontsize=10, weight='bold')\n",
    "\n",
    "# Second subplot for \"different terms\"\n",
    "ax = axes[1]\n",
    "m2 = Basemap(projection='cyl', resolution='c', ax=ax)\n",
    "m2.drawcoastlines(color='black')\n",
    "m2.fillcontinents(color='white', lake_color='white')\n",
    "m2.plot(x_different, y_different, 'bo', markersize=3, alpha=1)\n",
    "ax.set_title('Different Terms for SNOW and ICE', fontsize=10, weight='bold')\n",
    "\n",
    "# Adjust layout and display\n",
    "plt.tight_layout()\n",
    "plt.show()"
   ]
  }
 ],
 "metadata": {
  "colab": {
   "provenance": []
  },
  "kernelspec": {
   "display_name": "cpes_3.12",
   "language": "python",
   "name": "python3"
  },
  "language_info": {
   "codemirror_mode": {
    "name": "ipython",
    "version": 3
   },
   "file_extension": ".py",
   "mimetype": "text/x-python",
   "name": "python",
   "nbconvert_exporter": "python",
   "pygments_lexer": "ipython3",
   "version": "3.12.4"
  }
 },
 "nbformat": 4,
 "nbformat_minor": 0
}
