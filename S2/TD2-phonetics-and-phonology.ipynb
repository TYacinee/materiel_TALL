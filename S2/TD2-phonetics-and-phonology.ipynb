{
 "cells": [
  {
   "cell_type": "code",
   "execution_count": 315,
   "metadata": {},
   "outputs": [],
   "source": [
    "import numpy as np # numerical operations\n",
    "import matplotlib.pyplot as plt # plotting\n",
    "import seaborn as sns # plotting\n",
    "import pandas as pd # dataframe manipulation\n",
    "from mpl_toolkits.basemap import Basemap # map plotting\n",
    "\n",
    "sns.set(context='paper', style='ticks', font_scale=1) # set the plot style"
   ]
  },
  {
   "cell_type": "markdown",
   "metadata": {},
   "source": [
    "The code below can be used to install the missing librariies in Google Colab. "
   ]
  },
  {
   "cell_type": "code",
   "execution_count": 316,
   "metadata": {},
   "outputs": [],
   "source": [
    "### Google Colab installations ###\n",
    "# !pip install basemap"
   ]
  },
  {
   "cell_type": "markdown",
   "metadata": {},
   "source": [
    "## 1. Replication of Winter et al. (2022)"
   ]
  },
  {
   "cell_type": "markdown",
   "metadata": {},
   "source": [
    "### 1.1. Reading and cleaning the data"
   ]
  },
  {
   "cell_type": "markdown",
   "metadata": {},
   "source": [
    "Let's start by reading the data:"
   ]
  },
  {
   "cell_type": "code",
   "execution_count": 317,
   "metadata": {},
   "outputs": [],
   "source": [
    "data = pd.read_csv('https://raw.githubusercontent.com/alexeykosh/intro-to-ling/main/S2/data/final_data_winter_2022.csv', \n",
    "                   sep=',', # type of separator in the data\n",
    "                   header=0) # where the header is situated"
   ]
  },
  {
   "cell_type": "markdown",
   "metadata": {},
   "source": [
    "Let's look at the data. What columns do you see? What does one row correspond to?"
   ]
  },
  {
   "cell_type": "code",
   "execution_count": 318,
   "metadata": {},
   "outputs": [
    {
     "data": {
      "text/html": [
       "<div>\n",
       "<style scoped>\n",
       "    .dataframe tbody tr th:only-of-type {\n",
       "        vertical-align: middle;\n",
       "    }\n",
       "\n",
       "    .dataframe tbody tr th {\n",
       "        vertical-align: top;\n",
       "    }\n",
       "\n",
       "    .dataframe thead th {\n",
       "        text-align: right;\n",
       "    }\n",
       "</style>\n",
       "<table border=\"1\" class=\"dataframe\">\n",
       "  <thead>\n",
       "    <tr style=\"text-align: right;\">\n",
       "      <th></th>\n",
       "      <th>Language</th>\n",
       "      <th>ISO_code</th>\n",
       "      <th>Phoible_code</th>\n",
       "      <th>Meaning</th>\n",
       "      <th>Trill</th>\n",
       "      <th>Dataset</th>\n",
       "      <th>Latitude</th>\n",
       "      <th>Longitude</th>\n",
       "      <th>Family</th>\n",
       "      <th>Branch</th>\n",
       "      <th>Area</th>\n",
       "      <th>Continent</th>\n",
       "      <th>Rough.M</th>\n",
       "      <th>rough</th>\n",
       "      <th>R_type</th>\n",
       "      <th>r</th>\n",
       "      <th>l</th>\n",
       "      <th>Meaning.f</th>\n",
       "    </tr>\n",
       "  </thead>\n",
       "  <tbody>\n",
       "    <tr>\n",
       "      <th>0</th>\n",
       "      <td>Azeerbaijani</td>\n",
       "      <td>aze</td>\n",
       "      <td>azj</td>\n",
       "      <td>‘rough’</td>\n",
       "      <td>no</td>\n",
       "      <td>Google</td>\n",
       "      <td>40.50</td>\n",
       "      <td>48.50</td>\n",
       "      <td>Turkic</td>\n",
       "      <td>Common Turkic</td>\n",
       "      <td>Greater Mesopotamia</td>\n",
       "      <td>W and SW Eurasia</td>\n",
       "      <td>6.2</td>\n",
       "      <td>True</td>\n",
       "      <td>no trill</td>\n",
       "      <td>False</td>\n",
       "      <td>False</td>\n",
       "      <td>‘rough’</td>\n",
       "    </tr>\n",
       "    <tr>\n",
       "      <th>1</th>\n",
       "      <td>Basque</td>\n",
       "      <td>eus</td>\n",
       "      <td>eus</td>\n",
       "      <td>‘rough’</td>\n",
       "      <td>yes</td>\n",
       "      <td>Google</td>\n",
       "      <td>43.00</td>\n",
       "      <td>-3.00</td>\n",
       "      <td>Basque</td>\n",
       "      <td>NaN</td>\n",
       "      <td>Europe</td>\n",
       "      <td>W and SW Eurasia</td>\n",
       "      <td>6.2</td>\n",
       "      <td>True</td>\n",
       "      <td>mixed with trill</td>\n",
       "      <td>True</td>\n",
       "      <td>False</td>\n",
       "      <td>‘rough’</td>\n",
       "    </tr>\n",
       "    <tr>\n",
       "      <th>2</th>\n",
       "      <td>Haitian Creole</td>\n",
       "      <td>hat</td>\n",
       "      <td>hat</td>\n",
       "      <td>‘rough’</td>\n",
       "      <td>no</td>\n",
       "      <td>Google</td>\n",
       "      <td>19.00</td>\n",
       "      <td>-72.50</td>\n",
       "      <td>Haitian Creole</td>\n",
       "      <td>NaN</td>\n",
       "      <td>Mesoamerica</td>\n",
       "      <td>C America</td>\n",
       "      <td>6.2</td>\n",
       "      <td>True</td>\n",
       "      <td>NaN</td>\n",
       "      <td>True</td>\n",
       "      <td>False</td>\n",
       "      <td>‘rough’</td>\n",
       "    </tr>\n",
       "    <tr>\n",
       "      <th>3</th>\n",
       "      <td>Hebrew</td>\n",
       "      <td>heb</td>\n",
       "      <td>heb</td>\n",
       "      <td>‘rough’</td>\n",
       "      <td>no</td>\n",
       "      <td>Google</td>\n",
       "      <td>31.50</td>\n",
       "      <td>34.83</td>\n",
       "      <td>Semitic</td>\n",
       "      <td>West Semitic</td>\n",
       "      <td>Greater Mesopotamia</td>\n",
       "      <td>W and SW Eurasia</td>\n",
       "      <td>6.2</td>\n",
       "      <td>True</td>\n",
       "      <td>no rhotic</td>\n",
       "      <td>False</td>\n",
       "      <td>False</td>\n",
       "      <td>‘rough’</td>\n",
       "    </tr>\n",
       "    <tr>\n",
       "      <th>4</th>\n",
       "      <td>Georgian</td>\n",
       "      <td>kat</td>\n",
       "      <td>kat</td>\n",
       "      <td>‘rough’</td>\n",
       "      <td>yes</td>\n",
       "      <td>Google</td>\n",
       "      <td>42.00</td>\n",
       "      <td>44.00</td>\n",
       "      <td>Kartvelian</td>\n",
       "      <td>Georgian-Zan</td>\n",
       "      <td>Greater Mesopotamia</td>\n",
       "      <td>W and SW Eurasia</td>\n",
       "      <td>6.2</td>\n",
       "      <td>True</td>\n",
       "      <td>trill</td>\n",
       "      <td>False</td>\n",
       "      <td>False</td>\n",
       "      <td>‘rough’</td>\n",
       "    </tr>\n",
       "    <tr>\n",
       "      <th>5</th>\n",
       "      <td>Mongolian</td>\n",
       "      <td>mon</td>\n",
       "      <td>khk</td>\n",
       "      <td>‘rough’</td>\n",
       "      <td>yes</td>\n",
       "      <td>Google</td>\n",
       "      <td>49.00</td>\n",
       "      <td>117.00</td>\n",
       "      <td>Mongolic</td>\n",
       "      <td>NaN</td>\n",
       "      <td>Inner Asia</td>\n",
       "      <td>N-C Asia</td>\n",
       "      <td>6.2</td>\n",
       "      <td>True</td>\n",
       "      <td>trill</td>\n",
       "      <td>True</td>\n",
       "      <td>False</td>\n",
       "      <td>‘rough’</td>\n",
       "    </tr>\n",
       "    <tr>\n",
       "      <th>6</th>\n",
       "      <td>Malay</td>\n",
       "      <td>mly</td>\n",
       "      <td>zsm</td>\n",
       "      <td>‘rough’</td>\n",
       "      <td>yes</td>\n",
       "      <td>Google</td>\n",
       "      <td>3.00</td>\n",
       "      <td>102.00</td>\n",
       "      <td>Austronesian</td>\n",
       "      <td>Malayo-Polynesian</td>\n",
       "      <td>Southeast Asia</td>\n",
       "      <td>S/SE Asia</td>\n",
       "      <td>6.2</td>\n",
       "      <td>True</td>\n",
       "      <td>trill</td>\n",
       "      <td>True</td>\n",
       "      <td>False</td>\n",
       "      <td>‘rough’</td>\n",
       "    </tr>\n",
       "    <tr>\n",
       "      <th>7</th>\n",
       "      <td>Maltese</td>\n",
       "      <td>mlt</td>\n",
       "      <td>mlt</td>\n",
       "      <td>‘rough’</td>\n",
       "      <td>yes</td>\n",
       "      <td>Google</td>\n",
       "      <td>35.92</td>\n",
       "      <td>14.42</td>\n",
       "      <td>Semitic</td>\n",
       "      <td>West Semitic</td>\n",
       "      <td>Europe</td>\n",
       "      <td>W and SW Eurasia</td>\n",
       "      <td>6.2</td>\n",
       "      <td>True</td>\n",
       "      <td>trill</td>\n",
       "      <td>False</td>\n",
       "      <td>False</td>\n",
       "      <td>‘rough’</td>\n",
       "    </tr>\n",
       "    <tr>\n",
       "      <th>8</th>\n",
       "      <td>Sundanese</td>\n",
       "      <td>sun</td>\n",
       "      <td>sun</td>\n",
       "      <td>‘rough’</td>\n",
       "      <td>no</td>\n",
       "      <td>Google</td>\n",
       "      <td>-7.00</td>\n",
       "      <td>107.00</td>\n",
       "      <td>Austronesian</td>\n",
       "      <td>Malayo-Polynesian</td>\n",
       "      <td>Southeast Asia</td>\n",
       "      <td>S/SE Asia</td>\n",
       "      <td>6.2</td>\n",
       "      <td>True</td>\n",
       "      <td>no trill</td>\n",
       "      <td>True</td>\n",
       "      <td>False</td>\n",
       "      <td>‘rough’</td>\n",
       "    </tr>\n",
       "    <tr>\n",
       "      <th>9</th>\n",
       "      <td>Tagalog (Filipino)</td>\n",
       "      <td>tgl</td>\n",
       "      <td>tgl</td>\n",
       "      <td>‘rough’</td>\n",
       "      <td>no</td>\n",
       "      <td>Google</td>\n",
       "      <td>15.00</td>\n",
       "      <td>121.00</td>\n",
       "      <td>Austronesian</td>\n",
       "      <td>Malayo-Polynesian</td>\n",
       "      <td>Oceania</td>\n",
       "      <td>S/SE Asia</td>\n",
       "      <td>6.2</td>\n",
       "      <td>True</td>\n",
       "      <td>no trill</td>\n",
       "      <td>False</td>\n",
       "      <td>False</td>\n",
       "      <td>‘rough’</td>\n",
       "    </tr>\n",
       "  </tbody>\n",
       "</table>\n",
       "</div>"
      ],
      "text/plain": [
       "             Language ISO_code Phoible_code  Meaning Trill Dataset  Latitude  \\\n",
       "0        Azeerbaijani      aze          azj  ‘rough’    no  Google     40.50   \n",
       "1              Basque      eus          eus  ‘rough’   yes  Google     43.00   \n",
       "2      Haitian Creole      hat          hat  ‘rough’    no  Google     19.00   \n",
       "3              Hebrew      heb          heb  ‘rough’    no  Google     31.50   \n",
       "4            Georgian      kat          kat  ‘rough’   yes  Google     42.00   \n",
       "5           Mongolian      mon          khk  ‘rough’   yes  Google     49.00   \n",
       "6               Malay      mly          zsm  ‘rough’   yes  Google      3.00   \n",
       "7             Maltese      mlt          mlt  ‘rough’   yes  Google     35.92   \n",
       "8           Sundanese      sun          sun  ‘rough’    no  Google     -7.00   \n",
       "9  Tagalog (Filipino)      tgl          tgl  ‘rough’    no  Google     15.00   \n",
       "\n",
       "   Longitude          Family             Branch                 Area  \\\n",
       "0      48.50          Turkic      Common Turkic  Greater Mesopotamia   \n",
       "1      -3.00          Basque                NaN               Europe   \n",
       "2     -72.50  Haitian Creole                NaN          Mesoamerica   \n",
       "3      34.83         Semitic       West Semitic  Greater Mesopotamia   \n",
       "4      44.00      Kartvelian       Georgian-Zan  Greater Mesopotamia   \n",
       "5     117.00        Mongolic                NaN           Inner Asia   \n",
       "6     102.00    Austronesian  Malayo-Polynesian       Southeast Asia   \n",
       "7      14.42         Semitic       West Semitic               Europe   \n",
       "8     107.00    Austronesian  Malayo-Polynesian       Southeast Asia   \n",
       "9     121.00    Austronesian  Malayo-Polynesian              Oceania   \n",
       "\n",
       "          Continent  Rough.M  rough            R_type      r      l Meaning.f  \n",
       "0  W and SW Eurasia      6.2   True          no trill  False  False   ‘rough’  \n",
       "1  W and SW Eurasia      6.2   True  mixed with trill   True  False   ‘rough’  \n",
       "2         C America      6.2   True               NaN   True  False   ‘rough’  \n",
       "3  W and SW Eurasia      6.2   True         no rhotic  False  False   ‘rough’  \n",
       "4  W and SW Eurasia      6.2   True             trill  False  False   ‘rough’  \n",
       "5          N-C Asia      6.2   True             trill   True  False   ‘rough’  \n",
       "6         S/SE Asia      6.2   True             trill   True  False   ‘rough’  \n",
       "7  W and SW Eurasia      6.2   True             trill  False  False   ‘rough’  \n",
       "8         S/SE Asia      6.2   True          no trill   True  False   ‘rough’  \n",
       "9         S/SE Asia      6.2   True          no trill  False  False   ‘rough’  "
      ]
     },
     "execution_count": 318,
     "metadata": {},
     "output_type": "execute_result"
    }
   ],
   "source": [
    "data.head(10)"
   ]
  },
  {
   "cell_type": "markdown",
   "metadata": {},
   "source": [
    "Let's look at the contents of the Trill column:"
   ]
  },
  {
   "cell_type": "code",
   "execution_count": 319,
   "metadata": {},
   "outputs": [
    {
     "data": {
      "text/plain": [
       "array(['no', 'yes'], dtype=object)"
      ]
     },
     "execution_count": 319,
     "metadata": {},
     "output_type": "execute_result"
    }
   ],
   "source": [
    "data.Trill.unique()"
   ]
  },
  {
   "cell_type": "markdown",
   "metadata": {},
   "source": [
    "Let's count the number of languages with trills and without trills:"
   ]
  },
  {
   "cell_type": "code",
   "execution_count": 320,
   "metadata": {},
   "outputs": [
    {
     "data": {
      "text/plain": [
       "Trill\n",
       "yes    177\n",
       "no     152\n",
       "Name: count, dtype: int64"
      ]
     },
     "execution_count": 320,
     "metadata": {},
     "output_type": "execute_result"
    }
   ],
   "source": [
    "data.drop_duplicates(subset=['ISO_code'])['Trill'].value_counts()"
   ]
  },
  {
   "cell_type": "markdown",
   "metadata": {},
   "source": [
    "### 1.2. Map plotting"
   ]
  },
  {
   "cell_type": "markdown",
   "metadata": {},
   "source": [
    "Let's create a separate dataframe with the languages and their corresponding coordinates:"
   ]
  },
  {
   "cell_type": "code",
   "execution_count": 321,
   "metadata": {},
   "outputs": [
    {
     "data": {
      "text/plain": [
       "(329, 5)"
      ]
     },
     "execution_count": 321,
     "metadata": {},
     "output_type": "execute_result"
    }
   ],
   "source": [
    "languages = data[['ISO_code', 'Language', 'Latitude', 'Longitude', 'Trill']].drop_duplicates(subset=['ISO_code'])\n",
    "languages.shape"
   ]
  },
  {
   "cell_type": "markdown",
   "metadata": {},
   "source": [
    "We can check whethe the data is correct by counting trill types:"
   ]
  },
  {
   "cell_type": "code",
   "execution_count": 322,
   "metadata": {},
   "outputs": [
    {
     "data": {
      "text/plain": [
       "Trill\n",
       "yes    177\n",
       "no     152\n",
       "Name: count, dtype: int64"
      ]
     },
     "execution_count": 322,
     "metadata": {},
     "output_type": "execute_result"
    }
   ],
   "source": [
    "languages['Trill'].value_counts()"
   ]
  },
  {
   "cell_type": "markdown",
   "metadata": {},
   "source": [
    "Let's get the longitude and latitude of the languages with trills and without trills separately:"
   ]
  },
  {
   "cell_type": "code",
   "execution_count": 323,
   "metadata": {},
   "outputs": [],
   "source": [
    "x_trill = languages.loc[languages['Trill'] == 'yes', 'Longitude']\n",
    "y_trill = languages.loc[languages['Trill'] == 'yes', 'Latitude']\n",
    "\n",
    "x_other = languages.loc[languages['Trill'] == 'no', 'Longitude']\n",
    "y_other = languages.loc[languages['Trill'] == 'no', 'Latitude']"
   ]
  },
  {
   "cell_type": "markdown",
   "metadata": {},
   "source": [
    "Finally, we can plot the map based on what we learned at Session 1:"
   ]
  },
  {
   "cell_type": "code",
   "execution_count": 324,
   "metadata": {},
   "outputs": [
    {
     "data": {
      "image/png": "[encoded data removed]",
      "text/plain": [
       "<Figure size 1200x600 with 1 Axes>"
      ]
     },
     "metadata": {},
     "output_type": "display_data"
    }
   ],
   "source": [
    "plt.figure(figsize=(12, 6))\n",
    "m = Basemap(projection='cyl', # type of projection\n",
    "            lat_0=0, # latitude of the map center\n",
    "            lon_0=0, # longitude of the map center\n",
    "            resolution='c') # low resolution (crude)\n",
    "m.fillcontinents(color='gray', # color of the continents\n",
    "                 lake_color='white', # color of the lakes\n",
    "                 alpha=0.4) # transparency of the fill\n",
    "m.scatter(x_trill, # longitudes\n",
    "          y_trill, # latitudes\n",
    "          latlon=True, # interpret x, y as longitude and latitude (with transformation, try `moll`)\n",
    "          label='Language with trilled /r/', # label for the legend\n",
    "          color='red', s=10) # color and size of the points\n",
    "m.scatter(x_other, \n",
    "          y_other, \n",
    "          latlon=True,\n",
    "          label='Language with other /r/', \n",
    "          color='blue', s=10)\n",
    "plt.legend(frameon=False)\n",
    "# remove map border (for aesthetic reasons)\n",
    "plt.gca().spines['top'].set_visible(False)\n",
    "plt.gca().spines['right'].set_visible(False)\n",
    "plt.gca().spines['bottom'].set_visible(False)\n",
    "plt.gca().spines['left'].set_visible(False)\n",
    "plt.show() # show the plot"
   ]
  },
  {
   "cell_type": "markdown",
   "metadata": {},
   "source": [
    "### 1.3. Analysing languages with trills only"
   ]
  },
  {
   "cell_type": "markdown",
   "metadata": {},
   "source": [
    "We will start by looking at languages that only have trilled /r/ sounds."
   ]
  },
  {
   "cell_type": "code",
   "execution_count": 325,
   "metadata": {},
   "outputs": [],
   "source": [
    "data_trill_only = data[data.Trill == 'yes']"
   ]
  },
  {
   "cell_type": "markdown",
   "metadata": {},
   "source": [
    "Checking that the dataset is correct:"
   ]
  },
  {
   "cell_type": "code",
   "execution_count": 326,
   "metadata": {},
   "outputs": [
    {
     "data": {
      "text/html": [
       "<div>\n",
       "<style scoped>\n",
       "    .dataframe tbody tr th:only-of-type {\n",
       "        vertical-align: middle;\n",
       "    }\n",
       "\n",
       "    .dataframe tbody tr th {\n",
       "        vertical-align: top;\n",
       "    }\n",
       "\n",
       "    .dataframe thead th {\n",
       "        text-align: right;\n",
       "    }\n",
       "</style>\n",
       "<table border=\"1\" class=\"dataframe\">\n",
       "  <thead>\n",
       "    <tr style=\"text-align: right;\">\n",
       "      <th></th>\n",
       "      <th>Language</th>\n",
       "      <th>ISO_code</th>\n",
       "      <th>Phoible_code</th>\n",
       "      <th>Meaning</th>\n",
       "      <th>Trill</th>\n",
       "      <th>Dataset</th>\n",
       "      <th>Latitude</th>\n",
       "      <th>Longitude</th>\n",
       "      <th>Family</th>\n",
       "      <th>Branch</th>\n",
       "      <th>Area</th>\n",
       "      <th>Continent</th>\n",
       "      <th>Rough.M</th>\n",
       "      <th>rough</th>\n",
       "      <th>R_type</th>\n",
       "      <th>r</th>\n",
       "      <th>l</th>\n",
       "      <th>Meaning.f</th>\n",
       "    </tr>\n",
       "  </thead>\n",
       "  <tbody>\n",
       "    <tr>\n",
       "      <th>1</th>\n",
       "      <td>Basque</td>\n",
       "      <td>eus</td>\n",
       "      <td>eus</td>\n",
       "      <td>‘rough’</td>\n",
       "      <td>yes</td>\n",
       "      <td>Google</td>\n",
       "      <td>43.000000</td>\n",
       "      <td>-3.000000</td>\n",
       "      <td>Basque</td>\n",
       "      <td>NaN</td>\n",
       "      <td>Europe</td>\n",
       "      <td>W and SW Eurasia</td>\n",
       "      <td>6.2</td>\n",
       "      <td>True</td>\n",
       "      <td>mixed with trill</td>\n",
       "      <td>True</td>\n",
       "      <td>False</td>\n",
       "      <td>‘rough’</td>\n",
       "    </tr>\n",
       "    <tr>\n",
       "      <th>4</th>\n",
       "      <td>Georgian</td>\n",
       "      <td>kat</td>\n",
       "      <td>kat</td>\n",
       "      <td>‘rough’</td>\n",
       "      <td>yes</td>\n",
       "      <td>Google</td>\n",
       "      <td>42.000000</td>\n",
       "      <td>44.000000</td>\n",
       "      <td>Kartvelian</td>\n",
       "      <td>Georgian-Zan</td>\n",
       "      <td>Greater Mesopotamia</td>\n",
       "      <td>W and SW Eurasia</td>\n",
       "      <td>6.2</td>\n",
       "      <td>True</td>\n",
       "      <td>trill</td>\n",
       "      <td>False</td>\n",
       "      <td>False</td>\n",
       "      <td>‘rough’</td>\n",
       "    </tr>\n",
       "    <tr>\n",
       "      <th>5</th>\n",
       "      <td>Mongolian</td>\n",
       "      <td>mon</td>\n",
       "      <td>khk</td>\n",
       "      <td>‘rough’</td>\n",
       "      <td>yes</td>\n",
       "      <td>Google</td>\n",
       "      <td>49.000000</td>\n",
       "      <td>117.000000</td>\n",
       "      <td>Mongolic</td>\n",
       "      <td>NaN</td>\n",
       "      <td>Inner Asia</td>\n",
       "      <td>N-C Asia</td>\n",
       "      <td>6.2</td>\n",
       "      <td>True</td>\n",
       "      <td>trill</td>\n",
       "      <td>True</td>\n",
       "      <td>False</td>\n",
       "      <td>‘rough’</td>\n",
       "    </tr>\n",
       "    <tr>\n",
       "      <th>6</th>\n",
       "      <td>Malay</td>\n",
       "      <td>mly</td>\n",
       "      <td>zsm</td>\n",
       "      <td>‘rough’</td>\n",
       "      <td>yes</td>\n",
       "      <td>Google</td>\n",
       "      <td>3.000000</td>\n",
       "      <td>102.000000</td>\n",
       "      <td>Austronesian</td>\n",
       "      <td>Malayo-Polynesian</td>\n",
       "      <td>Southeast Asia</td>\n",
       "      <td>S/SE Asia</td>\n",
       "      <td>6.2</td>\n",
       "      <td>True</td>\n",
       "      <td>trill</td>\n",
       "      <td>True</td>\n",
       "      <td>False</td>\n",
       "      <td>‘rough’</td>\n",
       "    </tr>\n",
       "    <tr>\n",
       "      <th>7</th>\n",
       "      <td>Maltese</td>\n",
       "      <td>mlt</td>\n",
       "      <td>mlt</td>\n",
       "      <td>‘rough’</td>\n",
       "      <td>yes</td>\n",
       "      <td>Google</td>\n",
       "      <td>35.920000</td>\n",
       "      <td>14.420000</td>\n",
       "      <td>Semitic</td>\n",
       "      <td>West Semitic</td>\n",
       "      <td>Europe</td>\n",
       "      <td>W and SW Eurasia</td>\n",
       "      <td>6.2</td>\n",
       "      <td>True</td>\n",
       "      <td>trill</td>\n",
       "      <td>False</td>\n",
       "      <td>False</td>\n",
       "      <td>‘rough’</td>\n",
       "    </tr>\n",
       "    <tr>\n",
       "      <th>12</th>\n",
       "      <td>Pitta-Pitta</td>\n",
       "      <td>pit</td>\n",
       "      <td>pit</td>\n",
       "      <td>‘rough’</td>\n",
       "      <td>yes</td>\n",
       "      <td>Chirila</td>\n",
       "      <td>-23.870327</td>\n",
       "      <td>139.675189</td>\n",
       "      <td>Pama-Nyungan</td>\n",
       "      <td>Karnic</td>\n",
       "      <td>S Australia</td>\n",
       "      <td>Australia</td>\n",
       "      <td>6.2</td>\n",
       "      <td>True</td>\n",
       "      <td>trill</td>\n",
       "      <td>True</td>\n",
       "      <td>False</td>\n",
       "      <td>‘rough’</td>\n",
       "    </tr>\n",
       "    <tr>\n",
       "      <th>14</th>\n",
       "      <td>Ritharrngu</td>\n",
       "      <td>rit</td>\n",
       "      <td>rit</td>\n",
       "      <td>‘rough’</td>\n",
       "      <td>yes</td>\n",
       "      <td>Chirila</td>\n",
       "      <td>-13.091347</td>\n",
       "      <td>136.038424</td>\n",
       "      <td>Pama-Nyungan</td>\n",
       "      <td>Yolngu</td>\n",
       "      <td>N Australia</td>\n",
       "      <td>Australia</td>\n",
       "      <td>6.2</td>\n",
       "      <td>True</td>\n",
       "      <td>trill</td>\n",
       "      <td>True</td>\n",
       "      <td>False</td>\n",
       "      <td>‘rough’</td>\n",
       "    </tr>\n",
       "    <tr>\n",
       "      <th>15</th>\n",
       "      <td>Woiwurrung</td>\n",
       "      <td>wyi</td>\n",
       "      <td>wyi</td>\n",
       "      <td>‘rough’</td>\n",
       "      <td>yes</td>\n",
       "      <td>Chirila</td>\n",
       "      <td>-37.642645</td>\n",
       "      <td>145.587996</td>\n",
       "      <td>Pama-Nyungan</td>\n",
       "      <td>Kulinic</td>\n",
       "      <td>S Australia</td>\n",
       "      <td>Australia</td>\n",
       "      <td>6.2</td>\n",
       "      <td>True</td>\n",
       "      <td>trill</td>\n",
       "      <td>False</td>\n",
       "      <td>True</td>\n",
       "      <td>‘rough’</td>\n",
       "    </tr>\n",
       "    <tr>\n",
       "      <th>16</th>\n",
       "      <td>Yugambeh</td>\n",
       "      <td>yub</td>\n",
       "      <td>yub</td>\n",
       "      <td>‘rough’</td>\n",
       "      <td>yes</td>\n",
       "      <td>Chirila</td>\n",
       "      <td>-28.437400</td>\n",
       "      <td>153.301000</td>\n",
       "      <td>Pama-Nyungan</td>\n",
       "      <td>Bandjalangic</td>\n",
       "      <td>S Australia</td>\n",
       "      <td>Australia</td>\n",
       "      <td>6.2</td>\n",
       "      <td>True</td>\n",
       "      <td>NaN</td>\n",
       "      <td>True</td>\n",
       "      <td>True</td>\n",
       "      <td>‘rough’</td>\n",
       "    </tr>\n",
       "    <tr>\n",
       "      <th>17</th>\n",
       "      <td>Buwandik</td>\n",
       "      <td>xbg</td>\n",
       "      <td>xbg</td>\n",
       "      <td>‘rough’</td>\n",
       "      <td>yes</td>\n",
       "      <td>Chirila</td>\n",
       "      <td>-37.692988</td>\n",
       "      <td>141.315638</td>\n",
       "      <td>Pama-Nyungan</td>\n",
       "      <td>Kulinic</td>\n",
       "      <td>S Australia</td>\n",
       "      <td>Australia</td>\n",
       "      <td>6.2</td>\n",
       "      <td>True</td>\n",
       "      <td>NaN</td>\n",
       "      <td>True</td>\n",
       "      <td>False</td>\n",
       "      <td>‘rough’</td>\n",
       "    </tr>\n",
       "  </tbody>\n",
       "</table>\n",
       "</div>"
      ],
      "text/plain": [
       "       Language ISO_code Phoible_code  Meaning Trill  Dataset   Latitude  \\\n",
       "1        Basque      eus          eus  ‘rough’   yes   Google  43.000000   \n",
       "4      Georgian      kat          kat  ‘rough’   yes   Google  42.000000   \n",
       "5     Mongolian      mon          khk  ‘rough’   yes   Google  49.000000   \n",
       "6         Malay      mly          zsm  ‘rough’   yes   Google   3.000000   \n",
       "7       Maltese      mlt          mlt  ‘rough’   yes   Google  35.920000   \n",
       "12  Pitta-Pitta      pit          pit  ‘rough’   yes  Chirila -23.870327   \n",
       "14   Ritharrngu      rit          rit  ‘rough’   yes  Chirila -13.091347   \n",
       "15   Woiwurrung      wyi          wyi  ‘rough’   yes  Chirila -37.642645   \n",
       "16     Yugambeh      yub          yub  ‘rough’   yes  Chirila -28.437400   \n",
       "17     Buwandik      xbg          xbg  ‘rough’   yes  Chirila -37.692988   \n",
       "\n",
       "     Longitude        Family             Branch                 Area  \\\n",
       "1    -3.000000        Basque                NaN               Europe   \n",
       "4    44.000000    Kartvelian       Georgian-Zan  Greater Mesopotamia   \n",
       "5   117.000000      Mongolic                NaN           Inner Asia   \n",
       "6   102.000000  Austronesian  Malayo-Polynesian       Southeast Asia   \n",
       "7    14.420000       Semitic       West Semitic               Europe   \n",
       "12  139.675189  Pama-Nyungan             Karnic          S Australia   \n",
       "14  136.038424  Pama-Nyungan             Yolngu          N Australia   \n",
       "15  145.587996  Pama-Nyungan            Kulinic          S Australia   \n",
       "16  153.301000  Pama-Nyungan       Bandjalangic          S Australia   \n",
       "17  141.315638  Pama-Nyungan            Kulinic          S Australia   \n",
       "\n",
       "           Continent  Rough.M  rough            R_type      r      l Meaning.f  \n",
       "1   W and SW Eurasia      6.2   True  mixed with trill   True  False   ‘rough’  \n",
       "4   W and SW Eurasia      6.2   True             trill  False  False   ‘rough’  \n",
       "5           N-C Asia      6.2   True             trill   True  False   ‘rough’  \n",
       "6          S/SE Asia      6.2   True             trill   True  False   ‘rough’  \n",
       "7   W and SW Eurasia      6.2   True             trill  False  False   ‘rough’  \n",
       "12         Australia      6.2   True             trill   True  False   ‘rough’  \n",
       "14         Australia      6.2   True             trill   True  False   ‘rough’  \n",
       "15         Australia      6.2   True             trill  False   True   ‘rough’  \n",
       "16         Australia      6.2   True               NaN   True   True   ‘rough’  \n",
       "17         Australia      6.2   True               NaN   True  False   ‘rough’  "
      ]
     },
     "execution_count": 326,
     "metadata": {},
     "output_type": "execute_result"
    }
   ],
   "source": [
    "data_trill_only.head(10)"
   ]
  },
  {
   "cell_type": "markdown",
   "metadata": {},
   "source": [
    "We need to count the average amount of /r/ per meaning type ('rough' or 'smooth') for each family. For that, we will be groupping the data by family and meaning type and then calculating the mean counts of /r/ sounds."
   ]
  },
  {
   "cell_type": "code",
   "execution_count": 327,
   "metadata": {},
   "outputs": [],
   "source": [
    "summary = data_trill_only.groupby(['Family', 'Meaning']).agg({'r': 'mean'}).reset_index()"
   ]
  },
  {
   "cell_type": "markdown",
   "metadata": {},
   "source": [
    "Let's see what we got:"
   ]
  },
  {
   "cell_type": "code",
   "execution_count": 328,
   "metadata": {},
   "outputs": [
    {
     "data": {
      "text/html": [
       "<div>\n",
       "<style scoped>\n",
       "    .dataframe tbody tr th:only-of-type {\n",
       "        vertical-align: middle;\n",
       "    }\n",
       "\n",
       "    .dataframe tbody tr th {\n",
       "        vertical-align: top;\n",
       "    }\n",
       "\n",
       "    .dataframe thead th {\n",
       "        text-align: right;\n",
       "    }\n",
       "</style>\n",
       "<table border=\"1\" class=\"dataframe\">\n",
       "  <thead>\n",
       "    <tr style=\"text-align: right;\">\n",
       "      <th></th>\n",
       "      <th>Family</th>\n",
       "      <th>Meaning</th>\n",
       "      <th>r</th>\n",
       "    </tr>\n",
       "  </thead>\n",
       "  <tbody>\n",
       "    <tr>\n",
       "      <th>0</th>\n",
       "      <td>Adamawa-Ubangi</td>\n",
       "      <td>‘rough’</td>\n",
       "      <td>0.800000</td>\n",
       "    </tr>\n",
       "    <tr>\n",
       "      <th>1</th>\n",
       "      <td>Adamawa-Ubangi</td>\n",
       "      <td>‘smooth’</td>\n",
       "      <td>0.090909</td>\n",
       "    </tr>\n",
       "    <tr>\n",
       "      <th>2</th>\n",
       "      <td>Arawakan</td>\n",
       "      <td>‘rough’</td>\n",
       "      <td>0.000000</td>\n",
       "    </tr>\n",
       "    <tr>\n",
       "      <th>3</th>\n",
       "      <td>Arawakan</td>\n",
       "      <td>‘smooth’</td>\n",
       "      <td>0.000000</td>\n",
       "    </tr>\n",
       "    <tr>\n",
       "      <th>4</th>\n",
       "      <td>Austroasiatic</td>\n",
       "      <td>‘rough’</td>\n",
       "      <td>0.625000</td>\n",
       "    </tr>\n",
       "    <tr>\n",
       "      <th>5</th>\n",
       "      <td>Austroasiatic</td>\n",
       "      <td>‘smooth’</td>\n",
       "      <td>0.000000</td>\n",
       "    </tr>\n",
       "    <tr>\n",
       "      <th>6</th>\n",
       "      <td>Austronesian</td>\n",
       "      <td>‘rough’</td>\n",
       "      <td>0.681818</td>\n",
       "    </tr>\n",
       "    <tr>\n",
       "      <th>7</th>\n",
       "      <td>Austronesian</td>\n",
       "      <td>‘smooth’</td>\n",
       "      <td>0.222222</td>\n",
       "    </tr>\n",
       "    <tr>\n",
       "      <th>8</th>\n",
       "      <td>Barbacoan</td>\n",
       "      <td>‘smooth’</td>\n",
       "      <td>0.000000</td>\n",
       "    </tr>\n",
       "    <tr>\n",
       "      <th>9</th>\n",
       "      <td>Basque</td>\n",
       "      <td>‘rough’</td>\n",
       "      <td>1.000000</td>\n",
       "    </tr>\n",
       "  </tbody>\n",
       "</table>\n",
       "</div>"
      ],
      "text/plain": [
       "           Family   Meaning         r\n",
       "0  Adamawa-Ubangi   ‘rough’  0.800000\n",
       "1  Adamawa-Ubangi  ‘smooth’  0.090909\n",
       "2        Arawakan   ‘rough’  0.000000\n",
       "3        Arawakan  ‘smooth’  0.000000\n",
       "4   Austroasiatic   ‘rough’  0.625000\n",
       "5   Austroasiatic  ‘smooth’  0.000000\n",
       "6    Austronesian   ‘rough’  0.681818\n",
       "7    Austronesian  ‘smooth’  0.222222\n",
       "8       Barbacoan  ‘smooth’  0.000000\n",
       "9          Basque   ‘rough’  1.000000"
      ]
     },
     "execution_count": 328,
     "metadata": {},
     "output_type": "execute_result"
    }
   ],
   "source": [
    "summary.head(10)"
   ]
  },
  {
   "cell_type": "markdown",
   "metadata": {},
   "source": [
    "We can convert the mean counts to percentages by multiplying them by 100:"
   ]
  },
  {
   "cell_type": "code",
   "execution_count": 329,
   "metadata": {},
   "outputs": [],
   "source": [
    "summary['r'] = summary['r'] * 100"
   ]
  },
  {
   "cell_type": "markdown",
   "metadata": {},
   "source": [
    "Let's look at some families:"
   ]
  },
  {
   "cell_type": "code",
   "execution_count": 330,
   "metadata": {},
   "outputs": [
    {
     "data": {
      "text/html": [
       "<div>\n",
       "<style scoped>\n",
       "    .dataframe tbody tr th:only-of-type {\n",
       "        vertical-align: middle;\n",
       "    }\n",
       "\n",
       "    .dataframe tbody tr th {\n",
       "        vertical-align: top;\n",
       "    }\n",
       "\n",
       "    .dataframe thead th {\n",
       "        text-align: right;\n",
       "    }\n",
       "</style>\n",
       "<table border=\"1\" class=\"dataframe\">\n",
       "  <thead>\n",
       "    <tr style=\"text-align: right;\">\n",
       "      <th></th>\n",
       "      <th>Family</th>\n",
       "      <th>Meaning</th>\n",
       "      <th>r</th>\n",
       "    </tr>\n",
       "  </thead>\n",
       "  <tbody>\n",
       "    <tr>\n",
       "      <th>59</th>\n",
       "      <td>Turkic</td>\n",
       "      <td>‘rough’</td>\n",
       "      <td>33.333333</td>\n",
       "    </tr>\n",
       "    <tr>\n",
       "      <th>60</th>\n",
       "      <td>Turkic</td>\n",
       "      <td>‘smooth’</td>\n",
       "      <td>20.000000</td>\n",
       "    </tr>\n",
       "  </tbody>\n",
       "</table>\n",
       "</div>"
      ],
      "text/plain": [
       "    Family   Meaning          r\n",
       "59  Turkic   ‘rough’  33.333333\n",
       "60  Turkic  ‘smooth’  20.000000"
      ]
     },
     "execution_count": 330,
     "metadata": {},
     "output_type": "execute_result"
    }
   ],
   "source": [
    "summary.query('Family == \"Turkic\"')"
   ]
  },
  {
   "cell_type": "markdown",
   "metadata": {},
   "source": [
    "Let's plot the results. First, we will start by plotting the swarmplot (a type of scatterplot) for the data. We will be using the seaborn [swarmplot function](https://seaborn.pydata.org/generated/seaborn.swarmplot.html) for that:"
   ]
  },
  {
   "cell_type": "code",
   "execution_count": 331,
   "metadata": {},
   "outputs": [
    {
     "data": {
      "image/png": "[encoded data removed]",
      "text/plain": [
       "<Figure size 1000x500 with 1 Axes>"
      ]
     },
     "metadata": {},
     "output_type": "display_data"
    }
   ],
   "source": [
    "plt.figure(figsize=(10, 5)) # define the figure size\n",
    "sns.swarmplot(data=summary, # data for the plot\n",
    "              x='Meaning', # x-axis variable (type of meaning)\n",
    "              y='r', # y-axis variable (percentage of forms with /r/)\n",
    "              size = 7, # size of the points\n",
    "              alpha=0.5) # transparency of the points\n",
    "plt.xlabel(None) # remove the x-axis label\n",
    "plt.ylabel('Percentage of forms with /r/ (%)') # set the y-axis label\n",
    "sns.despine() # remove the top and right spines (just for aesthetics)\n",
    "plt.show()"
   ]
  },
  {
   "cell_type": "markdown",
   "metadata": {},
   "source": [
    "Now we can add the mean values to the plot with the confidence intervals. We will be using the seaborn [pointplot function](https://seaborn.pydata.org/generated/seaborn.pointplot.html) for that:"
   ]
  },
  {
   "cell_type": "code",
   "execution_count": 339,
   "metadata": {},
   "outputs": [
    {
     "data": {
      "image/png": "[encoded data removed]",
      "text/plain": [
       "<Figure size 1000x500 with 1 Axes>"
      ]
     },
     "metadata": {},
     "output_type": "display_data"
    }
   ],
   "source": [
    "plt.figure(figsize=(10, 5)) # define the figure size\n",
    "sns.swarmplot(data=summary, # data for the plot\n",
    "              x='Meaning', # x-axis variable (type of meaning)\n",
    "              y='r', # y-axis variable (percentage of forms with /r/)\n",
    "              size = 7, # size of the points\n",
    "              alpha=0.5) # transparency of the points\n",
    "sns.pointplot(data=summary, # data for the plot\n",
    "              x='Meaning',  # x-axis variable (type of meaning)\n",
    "              y='r',  # y-axis variable (percentage of forms with /r/)\n",
    "              estimator=np.mean, # function to estimate the central point (mean)\n",
    "              color='black', # color \n",
    "              linestyle='none', # no line connecting the points\n",
    "              errorbar=('ci', 95)) # error bars (95% confidence interval)\n",
    "plt.xlabel(None) # remove the x-axis label\n",
    "plt.ylabel('Percentage of forms with /r/ (%)') # set the y-axis label\n",
    "sns.despine() # remove the top and right spines (just for aesthetics)\n",
    "plt.show()"
   ]
  },
  {
   "cell_type": "markdown",
   "metadata": {},
   "source": [
    "Great, we just reproduced Figure 3 from Winter et al. (2022)! However, it seems that there is a caweat in how they are plotting the data... Let's look at it again, do you see something weird?"
   ]
  },
  {
   "cell_type": "code",
   "execution_count": 341,
   "metadata": {},
   "outputs": [
    {
     "data": {
      "text/html": [
       "<div>\n",
       "<style scoped>\n",
       "    .dataframe tbody tr th:only-of-type {\n",
       "        vertical-align: middle;\n",
       "    }\n",
       "\n",
       "    .dataframe tbody tr th {\n",
       "        vertical-align: top;\n",
       "    }\n",
       "\n",
       "    .dataframe thead th {\n",
       "        text-align: right;\n",
       "    }\n",
       "</style>\n",
       "<table border=\"1\" class=\"dataframe\">\n",
       "  <thead>\n",
       "    <tr style=\"text-align: right;\">\n",
       "      <th></th>\n",
       "      <th>Family</th>\n",
       "      <th>Meaning</th>\n",
       "      <th>r</th>\n",
       "    </tr>\n",
       "  </thead>\n",
       "  <tbody>\n",
       "    <tr>\n",
       "      <th>0</th>\n",
       "      <td>Adamawa-Ubangi</td>\n",
       "      <td>‘rough’</td>\n",
       "      <td>80.000000</td>\n",
       "    </tr>\n",
       "    <tr>\n",
       "      <th>1</th>\n",
       "      <td>Adamawa-Ubangi</td>\n",
       "      <td>‘smooth’</td>\n",
       "      <td>9.090909</td>\n",
       "    </tr>\n",
       "    <tr>\n",
       "      <th>2</th>\n",
       "      <td>Arawakan</td>\n",
       "      <td>‘rough’</td>\n",
       "      <td>0.000000</td>\n",
       "    </tr>\n",
       "    <tr>\n",
       "      <th>3</th>\n",
       "      <td>Arawakan</td>\n",
       "      <td>‘smooth’</td>\n",
       "      <td>0.000000</td>\n",
       "    </tr>\n",
       "    <tr>\n",
       "      <th>4</th>\n",
       "      <td>Austroasiatic</td>\n",
       "      <td>‘rough’</td>\n",
       "      <td>62.500000</td>\n",
       "    </tr>\n",
       "    <tr>\n",
       "      <th>5</th>\n",
       "      <td>Austroasiatic</td>\n",
       "      <td>‘smooth’</td>\n",
       "      <td>0.000000</td>\n",
       "    </tr>\n",
       "    <tr>\n",
       "      <th>6</th>\n",
       "      <td>Austronesian</td>\n",
       "      <td>‘rough’</td>\n",
       "      <td>68.181818</td>\n",
       "    </tr>\n",
       "    <tr>\n",
       "      <th>7</th>\n",
       "      <td>Austronesian</td>\n",
       "      <td>‘smooth’</td>\n",
       "      <td>22.222222</td>\n",
       "    </tr>\n",
       "    <tr>\n",
       "      <th>8</th>\n",
       "      <td>Barbacoan</td>\n",
       "      <td>‘smooth’</td>\n",
       "      <td>0.000000</td>\n",
       "    </tr>\n",
       "    <tr>\n",
       "      <th>9</th>\n",
       "      <td>Basque</td>\n",
       "      <td>‘rough’</td>\n",
       "      <td>100.000000</td>\n",
       "    </tr>\n",
       "  </tbody>\n",
       "</table>\n",
       "</div>"
      ],
      "text/plain": [
       "           Family   Meaning           r\n",
       "0  Adamawa-Ubangi   ‘rough’   80.000000\n",
       "1  Adamawa-Ubangi  ‘smooth’    9.090909\n",
       "2        Arawakan   ‘rough’    0.000000\n",
       "3        Arawakan  ‘smooth’    0.000000\n",
       "4   Austroasiatic   ‘rough’   62.500000\n",
       "5   Austroasiatic  ‘smooth’    0.000000\n",
       "6    Austronesian   ‘rough’   68.181818\n",
       "7    Austronesian  ‘smooth’   22.222222\n",
       "8       Barbacoan  ‘smooth’    0.000000\n",
       "9          Basque   ‘rough’  100.000000"
      ]
     },
     "execution_count": 341,
     "metadata": {},
     "output_type": "execute_result"
    }
   ],
   "source": [
    "summary.head(10)"
   ]
  },
  {
   "cell_type": "markdown",
   "metadata": {},
   "source": [
    "Let's look at the Barbacoan family (languages which are spoken in Colombia and Ecuador):"
   ]
  },
  {
   "cell_type": "code",
   "execution_count": 343,
   "metadata": {},
   "outputs": [
    {
     "data": {
      "text/html": [
       "<div>\n",
       "<style scoped>\n",
       "    .dataframe tbody tr th:only-of-type {\n",
       "        vertical-align: middle;\n",
       "    }\n",
       "\n",
       "    .dataframe tbody tr th {\n",
       "        vertical-align: top;\n",
       "    }\n",
       "\n",
       "    .dataframe thead th {\n",
       "        text-align: right;\n",
       "    }\n",
       "</style>\n",
       "<table border=\"1\" class=\"dataframe\">\n",
       "  <thead>\n",
       "    <tr style=\"text-align: right;\">\n",
       "      <th></th>\n",
       "      <th>Family</th>\n",
       "      <th>Meaning</th>\n",
       "      <th>r</th>\n",
       "    </tr>\n",
       "  </thead>\n",
       "  <tbody>\n",
       "    <tr>\n",
       "      <th>8</th>\n",
       "      <td>Barbacoan</td>\n",
       "      <td>‘smooth’</td>\n",
       "      <td>0.0</td>\n",
       "    </tr>\n",
       "  </tbody>\n",
       "</table>\n",
       "</div>"
      ],
      "text/plain": [
       "      Family   Meaning    r\n",
       "8  Barbacoan  ‘smooth’  0.0"
      ]
     },
     "execution_count": 343,
     "metadata": {},
     "output_type": "execute_result"
    }
   ],
   "source": [
    "summary.query('Family == \"Barbacoan\"')"
   ]
  },
  {
   "cell_type": "markdown",
   "metadata": {},
   "source": [
    "There is ony one entry for this family ('smooth'), so we can't really say anything about it. We need to adjust it by adding a new entry. for the absence of trills."
   ]
  },
  {
   "cell_type": "code",
   "execution_count": 344,
   "metadata": {},
   "outputs": [],
   "source": [
    "def add_absenses(data):\n",
    "    for Family in data.Family.unique(): # for each family in the dataset\n",
    "        if len(data[data.Family == Family]) == 1: # if only one entry is present\n",
    "            if \"‘smooth’\" in data[data.Family == Family].Meaning.values: # if the meaning is 'smooth' \n",
    "                new_entry = pd.DataFrame({'Family': [Family], 'Meaning': [\"‘rough’\"], 'r': [0]}) # add absence of 'rough'\n",
    "            else: # if the meaning is 'rough'\n",
    "                new_entry = pd.DataFrame({'Family': [Family], 'Meaning': [\"‘smooth’\"], 'r': [0]}) # add absence of 'smooth'\n",
    "            data = pd.concat([data, new_entry], ignore_index=True)\n",
    "\n",
    "    return data"
   ]
  },
  {
   "cell_type": "code",
   "execution_count": 345,
   "metadata": {},
   "outputs": [],
   "source": [
    "summary_w_absences = add_absenses(summary)"
   ]
  },
  {
   "cell_type": "code",
   "execution_count": 346,
   "metadata": {},
   "outputs": [
    {
     "data": {
      "text/html": [
       "<div>\n",
       "<style scoped>\n",
       "    .dataframe tbody tr th:only-of-type {\n",
       "        vertical-align: middle;\n",
       "    }\n",
       "\n",
       "    .dataframe tbody tr th {\n",
       "        vertical-align: top;\n",
       "    }\n",
       "\n",
       "    .dataframe thead th {\n",
       "        text-align: right;\n",
       "    }\n",
       "</style>\n",
       "<table border=\"1\" class=\"dataframe\">\n",
       "  <thead>\n",
       "    <tr style=\"text-align: right;\">\n",
       "      <th></th>\n",
       "      <th>Family</th>\n",
       "      <th>Meaning</th>\n",
       "      <th>r</th>\n",
       "    </tr>\n",
       "  </thead>\n",
       "  <tbody>\n",
       "    <tr>\n",
       "      <th>8</th>\n",
       "      <td>Barbacoan</td>\n",
       "      <td>‘smooth’</td>\n",
       "      <td>0.0</td>\n",
       "    </tr>\n",
       "    <tr>\n",
       "      <th>67</th>\n",
       "      <td>Barbacoan</td>\n",
       "      <td>‘rough’</td>\n",
       "      <td>0.0</td>\n",
       "    </tr>\n",
       "  </tbody>\n",
       "</table>\n",
       "</div>"
      ],
      "text/plain": [
       "       Family   Meaning    r\n",
       "8   Barbacoan  ‘smooth’  0.0\n",
       "67  Barbacoan   ‘rough’  0.0"
      ]
     },
     "execution_count": 346,
     "metadata": {},
     "output_type": "execute_result"
    }
   ],
   "source": [
    "summary_w_absences[summary_w_absences['Family'] == 'Barbacoan']"
   ]
  },
  {
   "cell_type": "markdown",
   "metadata": {},
   "source": [
    "Let's reporduce the plot from above with the new data:"
   ]
  },
  {
   "cell_type": "code",
   "execution_count": 348,
   "metadata": {},
   "outputs": [],
   "source": [
    "## YOUR CODE HERE ###"
   ]
  },
  {
   "cell_type": "markdown",
   "metadata": {},
   "source": [
    "### 1.4. Analysing languages with different types of /r/"
   ]
  },
  {
   "cell_type": "markdown",
   "metadata": {},
   "source": [
    "We haven't looked at the languages with different types of /r/ sounds yet. Let's start by looking at the data for languages with other types of /r/ sounds:"
   ]
  },
  {
   "cell_type": "code",
   "execution_count": 350,
   "metadata": {},
   "outputs": [],
   "source": [
    "data_other_type = data[data.Trill == 'no']"
   ]
  },
  {
   "cell_type": "markdown",
   "metadata": {},
   "source": [
    "Now it's your turn, you need to recreate the same analysis as before, just for this new subset."
   ]
  },
  {
   "cell_type": "code",
   "execution_count": 351,
   "metadata": {},
   "outputs": [],
   "source": [
    "### YOUR ANSWER HERE ###"
   ]
  }
 ],
 "metadata": {
  "kernelspec": {
   "display_name": "Python 3",
   "language": "python",
   "name": "python3"
  },
  "language_info": {
   "codemirror_mode": {
    "name": "ipython",
    "version": 3
   },
   "file_extension": ".py",
   "mimetype": "text/x-python",
   "name": "python",
   "nbconvert_exporter": "python",
   "pygments_lexer": "ipython3",
   "version": "3.12.4"
  }
 },
 "nbformat": 4,
 "nbformat_minor": 2
}
